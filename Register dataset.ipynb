{
 "cells": [
  {
   "cell_type": "code",
   "execution_count": null,
   "id": "c017c3e4-8443-400c-b103-5263438d0bce",
   "metadata": {
    "tags": []
   },
   "outputs": [],
   "source": [
    "%pip install feast[cassandra]==0.26\n",
    "%pip install psycopg2-binary"
   ]
  },
  {
   "cell_type": "code",
   "execution_count": 1,
   "id": "1c51c374-1876-42c4-ab9f-566189fd5f57",
   "metadata": {
    "tags": []
   },
   "outputs": [
    {
     "name": "stderr",
     "output_type": "stream",
     "text": [
      "/opt/conda/lib/python3.8/site-packages/dask/dataframe/backends.py:187: FutureWarning: pandas.Int64Index is deprecated and will be removed from pandas in a future version. Use pandas.Index with the appropriate dtype instead.\n",
      "  _numeric_index_types = (pd.Int64Index, pd.Float64Index, pd.UInt64Index)\n",
      "/opt/conda/lib/python3.8/site-packages/dask/dataframe/backends.py:187: FutureWarning: pandas.Float64Index is deprecated and will be removed from pandas in a future version. Use pandas.Index with the appropriate dtype instead.\n",
      "  _numeric_index_types = (pd.Int64Index, pd.Float64Index, pd.UInt64Index)\n",
      "/opt/conda/lib/python3.8/site-packages/dask/dataframe/backends.py:187: FutureWarning: pandas.UInt64Index is deprecated and will be removed from pandas in a future version. Use pandas.Index with the appropriate dtype instead.\n",
      "  _numeric_index_types = (pd.Int64Index, pd.Float64Index, pd.UInt64Index)\n"
     ]
    }
   ],
   "source": [
    "from feast import FeatureStore\n",
    "store = FeatureStore(repo_path=\".\")"
   ]
  },
  {
   "cell_type": "code",
   "execution_count": 2,
   "id": "4f275d80-a76f-4a83-afac-8cbafff81e2e",
   "metadata": {},
   "outputs": [
    {
     "name": "stderr",
     "output_type": "stream",
     "text": [
      "/opt/conda/lib/python3.8/site-packages/ipykernel/ipkernel.py:283: DeprecationWarning: `should_run_async` will not call `transform_cell` automatically in the future. Please pass the result to `transformed_cell` argument and any exception that happen during thetransform in `preprocessing_exc_tuple` in IPython 7.17 and above.\n",
      "  and should_run_async(code)\n"
     ]
    }
   ],
   "source": [
    "# !feast apply"
   ]
  },
  {
   "cell_type": "code",
   "execution_count": 14,
   "id": "179597cf-84a7-4d8a-8834-e661eb4819a1",
   "metadata": {},
   "outputs": [
    {
     "name": "stderr",
     "output_type": "stream",
     "text": [
      "/opt/conda/lib/python3.8/site-packages/ipykernel/ipkernel.py:283: DeprecationWarning: `should_run_async` will not call `transform_cell` automatically in the future. Please pass the result to `transformed_cell` argument and any exception that happen during thetransform in `preprocessing_exc_tuple` in IPython 7.17 and above.\n",
      "  and should_run_async(code)\n"
     ]
    }
   ],
   "source": [
    "import pandas as pd"
   ]
  },
  {
   "cell_type": "code",
   "execution_count": 26,
   "id": "cedfbe09-6d72-459e-b2f2-f720728dad71",
   "metadata": {},
   "outputs": [],
   "source": [
    "loans = pd.read_parquet(\"loan_table.parquet\")"
   ]
  },
  {
   "cell_type": "code",
   "execution_count": 27,
   "id": "97420bf0-7958-4f1c-ae18-d988b065ec83",
   "metadata": {},
   "outputs": [
    {
     "name": "stderr",
     "output_type": "stream",
     "text": [
      "/opt/conda/lib/python3.8/site-packages/ipykernel/ipkernel.py:283: DeprecationWarning: `should_run_async` will not call `transform_cell` automatically in the future. Please pass the result to `transformed_cell` argument and any exception that happen during thetransform in `preprocessing_exc_tuple` in IPython 7.17 and above.\n",
      "  and should_run_async(code)\n"
     ]
    }
   ],
   "source": [
    "loan_times = loans[[\"loan_id\", \"event_timestamp\", \"created_timestamp\"]]"
   ]
  },
  {
   "cell_type": "code",
   "execution_count": 28,
   "id": "3b615f11-e08f-43c0-960b-01016f14f171",
   "metadata": {},
   "outputs": [
    {
     "name": "stderr",
     "output_type": "stream",
     "text": [
      "/opt/conda/lib/python3.8/site-packages/ipykernel/ipkernel.py:283: DeprecationWarning: `should_run_async` will not call `transform_cell` automatically in the future. Please pass the result to `transformed_cell` argument and any exception that happen during thetransform in `preprocessing_exc_tuple` in IPython 7.17 and above.\n",
      "  and should_run_async(code)\n"
     ]
    }
   ],
   "source": [
    "# parquet_name = \"loan_approval_baseline.parquet\"\n",
    "# dataset_name = \"loan_approval_baseline\"\n",
    "\n",
    "# parquet_name = \"loan_approval_2022q3.parquet\"\n",
    "# dataset_name = \"loan_approval_2022q3_m1\"\n",
    "\n",
    "parquet_name = \"loan_approval_2022q4.parquet\"\n",
    "dataset_name = \"loan_approval_2022q4_m1\""
   ]
  },
  {
   "cell_type": "code",
   "execution_count": 29,
   "id": "efe48ef3-cf10-4320-8de9-1b92b2bb1611",
   "metadata": {},
   "outputs": [],
   "source": [
    "q3 = pd.read_parquet(parquet_name)[loans.columns]"
   ]
  },
  {
   "cell_type": "code",
   "execution_count": 30,
   "id": "fcc359f2-4a40-4c97-a85c-40c266efd9f6",
   "metadata": {},
   "outputs": [
    {
     "name": "stderr",
     "output_type": "stream",
     "text": [
      "/opt/conda/lib/python3.8/site-packages/ipykernel/ipkernel.py:283: DeprecationWarning: `should_run_async` will not call `transform_cell` automatically in the future. Please pass the result to `transformed_cell` argument and any exception that happen during thetransform in `preprocessing_exc_tuple` in IPython 7.17 and above.\n",
      "  and should_run_async(code)\n"
     ]
    }
   ],
   "source": [
    "q3_without_time = q3[['loan_id', 'dob_ssn', 'zipcode', 'person_age', 'person_income',\n",
    "       'person_home_ownership', 'person_emp_length', 'loan_intent',\n",
    "       'loan_amnt', 'loan_int_rate', 'loan_status']]"
   ]
  },
  {
   "cell_type": "code",
   "execution_count": 31,
   "id": "43462f80-48c4-449f-bb4b-d45cdf49bab9",
   "metadata": {},
   "outputs": [
    {
     "name": "stderr",
     "output_type": "stream",
     "text": [
      "/opt/conda/lib/python3.8/site-packages/ipykernel/ipkernel.py:283: DeprecationWarning: `should_run_async` will not call `transform_cell` automatically in the future. Please pass the result to `transformed_cell` argument and any exception that happen during thetransform in `preprocessing_exc_tuple` in IPython 7.17 and above.\n",
      "  and should_run_async(code)\n"
     ]
    }
   ],
   "source": [
    "merged = q3_without_time.merge(loan_times, on=\"loan_id\", how=\"left\")"
   ]
  },
  {
   "cell_type": "code",
   "execution_count": 32,
   "id": "89eee59f-d224-46d9-b0d7-3cb408d70605",
   "metadata": {},
   "outputs": [
    {
     "name": "stderr",
     "output_type": "stream",
     "text": [
      "/opt/conda/lib/python3.8/site-packages/ipykernel/ipkernel.py:283: DeprecationWarning: `should_run_async` will not call `transform_cell` automatically in the future. Please pass the result to `transformed_cell` argument and any exception that happen during thetransform in `preprocessing_exc_tuple` in IPython 7.17 and above.\n",
      "  and should_run_async(code)\n"
     ]
    }
   ],
   "source": [
    "loan_features = store.get_feature_service('loan_features')"
   ]
  },
  {
   "cell_type": "code",
   "execution_count": 33,
   "id": "ba51ff01-a841-454b-8094-73dac3671bd6",
   "metadata": {},
   "outputs": [],
   "source": [
    "from feast.infra.offline_stores.contrib.postgres_offline_store.postgres_source import (\n",
    "    PostgreSQLSource, SavedDatasetPostgreSQLStorage\n",
    ")\n",
    "\n",
    "training_features = store.get_historical_features(\n",
    "    entity_df=merged, \n",
    "    features=loan_features\n",
    ")"
   ]
  },
  {
   "cell_type": "code",
   "execution_count": 34,
   "id": "154bb952-ffcb-4c57-9a3b-81ca9f1f39c6",
   "metadata": {},
   "outputs": [
    {
     "name": "stderr",
     "output_type": "stream",
     "text": [
      "/opt/conda/lib/python3.8/site-packages/ipykernel/ipkernel.py:283: DeprecationWarning: `should_run_async` will not call `transform_cell` automatically in the future. Please pass the result to `transformed_cell` argument and any exception that happen during thetransform in `preprocessing_exc_tuple` in IPython 7.17 and above.\n",
      "  and should_run_async(code)\n",
      "/opt/conda/lib/python3.8/site-packages/feast/feature_store.py:1182: RuntimeWarning: Saving dataset is an experimental feature. This API is unstable and it could and most probably will be changed in the future. We do not guarantee that future changes will maintain backward compatibility.\n",
      "  warnings.warn(\n"
     ]
    }
   ],
   "source": [
    "dataset = store.create_saved_dataset(\n",
    "    from_=training_features,\n",
    "    name=dataset_name,\n",
    "    storage=SavedDatasetPostgreSQLStorage(table_ref=dataset_name)\n",
    ")"
   ]
  },
  {
   "cell_type": "code",
   "execution_count": 25,
   "id": "31519c25-4977-4e49-802d-59e66e93ad5b",
   "metadata": {},
   "outputs": [
    {
     "name": "stderr",
     "output_type": "stream",
     "text": [
      "/opt/conda/lib/python3.8/site-packages/ipykernel/ipkernel.py:283: DeprecationWarning: `should_run_async` will not call `transform_cell` automatically in the future. Please pass the result to `transformed_cell` argument and any exception that happen during thetransform in `preprocessing_exc_tuple` in IPython 7.17 and above.\n",
      "  and should_run_async(code)\n"
     ]
    }
   ],
   "source": [
    "# import psycopg2\n",
    "# from psycopg2.extensions import ISOLATION_LEVEL_AUTOCOMMIT\n",
    "\n",
    "# conn = None\n",
    "# cur = None\n",
    "\n",
    "# try:\n",
    "#     conn = psycopg2.connect(\"host=cassandra-postgresql.feast-db port=5432 dbname=FEAST_OFFLINE_STORE user=postgres password=postgres\")\n",
    "#     conn.set_isolation_level(ISOLATION_LEVEL_AUTOCOMMIT);\n",
    "#     cur = conn.cursor()\n",
    "#     cur.execute('DROP TABLE IF EXISTS loan_approval_2022q4;')\n",
    "#     print('droped')\n",
    "# except:\n",
    "#     if cur is not None:\n",
    "#         cur.close()\n",
    "#     if conn is not None:\n",
    "#         conn.close()"
   ]
  },
  {
   "cell_type": "code",
   "execution_count": null,
   "id": "a58a215d-5738-4627-bf03-288c50eb25cc",
   "metadata": {},
   "outputs": [],
   "source": []
  },
  {
   "cell_type": "code",
   "execution_count": null,
   "id": "d67b1c2a-b47c-40e1-af74-895c35eae35c",
   "metadata": {},
   "outputs": [],
   "source": []
  }
 ],
 "metadata": {
  "kernelspec": {
   "display_name": "Python 3",
   "language": "python",
   "name": "python3"
  },
  "language_info": {
   "codemirror_mode": {
    "name": "ipython",
    "version": 3
   },
   "file_extension": ".py",
   "mimetype": "text/x-python",
   "name": "python",
   "nbconvert_exporter": "python",
   "pygments_lexer": "ipython3",
   "version": "3.8.10"
  }
 },
 "nbformat": 4,
 "nbformat_minor": 5
}
