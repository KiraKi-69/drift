{
 "cells": [
  {
   "cell_type": "code",
   "execution_count": 1,
   "id": "c017c3e4-8443-400c-b103-5263438d0bce",
   "metadata": {
    "collapsed": true,
    "jupyter": {
     "outputs_hidden": true
    },
    "tags": []
   },
   "outputs": [
    {
     "name": "stdout",
     "output_type": "stream",
     "text": [
      "Collecting feast[cassandra]==0.26\n",
      "  Downloading feast-0.26.0-cp38-cp38-manylinux_2_17_x86_64.manylinux2014_x86_64.whl (29.0 MB)\n",
      "\u001b[K     |████████████████████████████████| 29.0 MB 120 kB/s eta 0:00:01     |████████████████▍               | 14.9 MB 1.4 MB/s eta 0:00:11\n",
      "\u001b[?25hCollecting bowler\n",
      "  Downloading bowler-0.9.0-py3-none-any.whl (36 kB)\n",
      "Requirement already satisfied: click<9.0.0,>=7.0.0 in /opt/conda/lib/python3.8/site-packages (from feast[cassandra]==0.26) (8.1.3)\n",
      "Requirement already satisfied: dask<2022.02.0,>=2021.* in /opt/conda/lib/python3.8/site-packages (from feast[cassandra]==0.26) (2021.6.1)\n",
      "Collecting pandavro==1.5.*\n",
      "  Downloading pandavro-1.5.2.tar.gz (3.8 kB)\n",
      "Requirement already satisfied: tabulate<1,>=0.8.0 in /opt/conda/lib/python3.8/site-packages (from feast[cassandra]==0.26) (0.8.9)\n",
      "Collecting pandas<2,>=1.4.3\n",
      "  Downloading pandas-1.5.3-cp38-cp38-manylinux_2_17_x86_64.manylinux2014_x86_64.whl (12.2 MB)\n",
      "\u001b[K     |████████████████████████████████| 12.2 MB 82.0 MB/s eta 0:00:01\n",
      "\u001b[?25hCollecting uvicorn[standard]<1,>=0.14.0\n",
      "  Downloading uvicorn-0.23.2-py3-none-any.whl (59 kB)\n",
      "\u001b[K     |████████████████████████████████| 59 kB 5.2 MB/s  eta 0:00:01\n",
      "\u001b[?25hCollecting typeguard\n",
      "  Downloading typeguard-4.1.5-py3-none-any.whl (34 kB)\n",
      "Requirement already satisfied: protobuf<5,>3 in /opt/conda/lib/python3.8/site-packages (from feast[cassandra]==0.26) (3.17.3)\n",
      "Requirement already satisfied: colorama<1,>=0.3.9 in /opt/conda/lib/python3.8/site-packages (from feast[cassandra]==0.26) (0.4.4)\n",
      "Requirement already satisfied: numpy<3,>=1.22 in /opt/conda/lib/python3.8/site-packages (from feast[cassandra]==0.26) (1.22.3)\n",
      "Collecting pyarrow<9,>=4\n",
      "  Downloading pyarrow-8.0.0-cp38-cp38-manylinux_2_17_x86_64.manylinux2014_x86_64.whl (29.4 MB)\n",
      "\u001b[K     |████████████████████████████████| 29.4 MB 149 kB/s  eta 0:00:01\n",
      "\u001b[?25hCollecting fastavro<2,>=1.1.0\n",
      "  Downloading fastavro-1.8.3-cp38-cp38-manylinux_2_17_x86_64.manylinux2014_x86_64.whl (2.8 MB)\n",
      "\u001b[K     |████████████████████████████████| 2.8 MB 40.2 MB/s eta 0:00:01\n",
      "\u001b[?25hRequirement already satisfied: PyYAML<7,>=5.4.* in /opt/conda/lib/python3.8/site-packages (from feast[cassandra]==0.26) (5.4.1)\n",
      "Collecting tenacity<9,>=7\n",
      "  Downloading tenacity-8.2.3-py3-none-any.whl (24 kB)\n",
      "Requirement already satisfied: google-api-core<3,>=1.23.0 in /opt/conda/lib/python3.8/site-packages (from feast[cassandra]==0.26) (2.7.1)\n",
      "Collecting fastapi<1,>=0.68.0\n",
      "  Downloading fastapi-0.103.1-py3-none-any.whl (66 kB)\n",
      "\u001b[K     |████████████████████████████████| 66 kB 3.9 MB/s  eta 0:00:01\n",
      "\u001b[?25hCollecting grpcio-reflection<2,>=1.47.0\n",
      "  Downloading grpcio_reflection-1.58.0-py3-none-any.whl (21 kB)\n",
      "Collecting toml<1,>=0.10.0\n",
      "  Downloading toml-0.10.2-py2.py3-none-any.whl (16 kB)\n",
      "Requirement already satisfied: Jinja2<4,>=2 in /opt/conda/lib/python3.8/site-packages (from feast[cassandra]==0.26) (3.0.1)\n",
      "Collecting mmh3\n",
      "  Downloading mmh3-4.0.1-cp38-cp38-manylinux_2_5_x86_64.manylinux1_x86_64.manylinux_2_17_x86_64.manylinux2014_x86_64.whl (72 kB)\n",
      "\u001b[K     |████████████████████████████████| 72 kB 835 kB/s  eta 0:00:01\n",
      "\u001b[?25hRequirement already satisfied: tqdm<5,>=4 in /opt/conda/lib/python3.8/site-packages (from feast[cassandra]==0.26) (4.61.0)\n",
      "Collecting pydantic<2,>=1\n",
      "  Downloading pydantic-1.10.12-cp38-cp38-manylinux_2_17_x86_64.manylinux2014_x86_64.whl (3.2 MB)\n",
      "\u001b[K     |████████████████████████████████| 3.2 MB 56.9 MB/s eta 0:00:01\n",
      "\u001b[?25hCollecting pygments<3,>=2.12.0\n",
      "  Downloading Pygments-2.16.1-py3-none-any.whl (1.2 MB)\n",
      "\u001b[K     |████████████████████████████████| 1.2 MB 74.0 MB/s eta 0:00:01\n",
      "\u001b[?25hRequirement already satisfied: dill==0.3.* in /opt/conda/lib/python3.8/site-packages (from feast[cassandra]==0.26) (0.3.4)\n",
      "Collecting proto-plus<2,>=1.20.0\n",
      "  Downloading proto_plus-1.22.3-py3-none-any.whl (48 kB)\n",
      "\u001b[K     |████████████████████████████████| 48 kB 4.1 MB/s  eta 0:00:01\n",
      "\u001b[?25hCollecting grpcio<2,>=1.47.0\n",
      "  Downloading grpcio-1.58.0-cp38-cp38-manylinux_2_17_x86_64.manylinux2014_x86_64.whl (5.3 MB)\n",
      "\u001b[K     |████████████████████████████████| 5.3 MB 54.6 MB/s eta 0:00:01\n",
      "\u001b[?25hRequirement already satisfied: jsonschema in /opt/conda/lib/python3.8/site-packages (from feast[cassandra]==0.26) (3.2.0)\n",
      "Requirement already satisfied: SQLAlchemy[mypy]<2,>1 in /opt/conda/lib/python3.8/site-packages (from feast[cassandra]==0.26) (1.4.18)\n",
      "Requirement already satisfied: googleapis-common-protos<2,>=1.52.* in /opt/conda/lib/python3.8/site-packages (from feast[cassandra]==0.26) (1.55.0)\n",
      "Collecting cassandra-driver<4,>=3.24.0\n",
      "  Downloading cassandra_driver-3.28.0-cp38-cp38-manylinux_2_17_x86_64.manylinux2014_x86_64.whl (20.5 MB)\n",
      "\u001b[K     |████████████████████████████████| 20.5 MB 69.5 MB/s eta 0:00:01\n",
      "\u001b[?25hRequirement already satisfied: six>=1.9 in /opt/conda/lib/python3.8/site-packages (from pandavro==1.5.*->feast[cassandra]==0.26) (1.16.0)\n",
      "Collecting geomet<0.3,>=0.1\n",
      "  Downloading geomet-0.2.1.post1-py3-none-any.whl (18 kB)\n",
      "Requirement already satisfied: toolz>=0.8.2 in /opt/conda/lib/python3.8/site-packages (from dask<2022.02.0,>=2021.*->feast[cassandra]==0.26) (0.11.2)\n",
      "Requirement already satisfied: cloudpickle>=1.1.1 in /opt/conda/lib/python3.8/site-packages (from dask<2022.02.0,>=2021.*->feast[cassandra]==0.26) (1.6.0)\n",
      "Requirement already satisfied: fsspec>=0.6.0 in /opt/conda/lib/python3.8/site-packages (from dask<2022.02.0,>=2021.*->feast[cassandra]==0.26) (2022.2.0)\n",
      "Requirement already satisfied: partd>=0.3.10 in /opt/conda/lib/python3.8/site-packages (from dask<2022.02.0,>=2021.*->feast[cassandra]==0.26) (1.2.0)\n",
      "Collecting starlette<0.28.0,>=0.27.0\n",
      "  Downloading starlette-0.27.0-py3-none-any.whl (66 kB)\n",
      "\u001b[K     |████████████████████████████████| 66 kB 4.4 MB/s  eta 0:00:01\n",
      "\u001b[?25hCollecting typing-extensions>=4.5.0\n",
      "  Downloading typing_extensions-4.8.0-py3-none-any.whl (31 kB)\n",
      "Collecting anyio<4.0.0,>=3.7.1\n",
      "  Downloading anyio-3.7.1-py3-none-any.whl (80 kB)\n",
      "\u001b[K     |████████████████████████████████| 80 kB 7.3 MB/s  eta 0:00:01\n",
      "\u001b[?25hCollecting exceptiongroup\n",
      "  Downloading exceptiongroup-1.1.3-py3-none-any.whl (14 kB)\n",
      "Requirement already satisfied: sniffio>=1.1 in /opt/conda/lib/python3.8/site-packages (from anyio<4.0.0,>=3.7.1->fastapi<1,>=0.68.0->feast[cassandra]==0.26) (1.2.0)\n",
      "Requirement already satisfied: idna>=2.8 in /opt/conda/lib/python3.8/site-packages (from anyio<4.0.0,>=3.7.1->fastapi<1,>=0.68.0->feast[cassandra]==0.26) (2.10)\n",
      "Requirement already satisfied: requests<3.0.0dev,>=2.18.0 in /opt/conda/lib/python3.8/site-packages (from google-api-core<3,>=1.23.0->feast[cassandra]==0.26) (2.25.1)\n",
      "Requirement already satisfied: google-auth<3.0dev,>=1.25.0 in /opt/conda/lib/python3.8/site-packages (from google-api-core<3,>=1.23.0->feast[cassandra]==0.26) (1.35.0)\n",
      "Requirement already satisfied: pyasn1-modules>=0.2.1 in /opt/conda/lib/python3.8/site-packages (from google-auth<3.0dev,>=1.25.0->google-api-core<3,>=1.23.0->feast[cassandra]==0.26) (0.2.8)\n",
      "Requirement already satisfied: cachetools<5.0,>=2.0.0 in /opt/conda/lib/python3.8/site-packages (from google-auth<3.0dev,>=1.25.0->google-api-core<3,>=1.23.0->feast[cassandra]==0.26) (4.2.4)\n",
      "Requirement already satisfied: setuptools>=40.3.0 in /opt/conda/lib/python3.8/site-packages (from google-auth<3.0dev,>=1.25.0->google-api-core<3,>=1.23.0->feast[cassandra]==0.26) (49.6.0.post20210108)\n",
      "Requirement already satisfied: rsa<5,>=3.1.4 in /opt/conda/lib/python3.8/site-packages (from google-auth<3.0dev,>=1.25.0->google-api-core<3,>=1.23.0->feast[cassandra]==0.26) (4.8)\n",
      "Collecting protobuf<5,>3\n",
      "  Downloading protobuf-4.24.3-cp37-abi3-manylinux2014_x86_64.whl (311 kB)\n",
      "\u001b[K     |████████████████████████████████| 311 kB 77.4 MB/s eta 0:00:01\n",
      "\u001b[?25hRequirement already satisfied: MarkupSafe>=2.0 in /opt/conda/lib/python3.8/site-packages (from Jinja2<4,>=2->feast[cassandra]==0.26) (2.1.1)\n",
      "Requirement already satisfied: python-dateutil>=2.8.1 in /opt/conda/lib/python3.8/site-packages (from pandas<2,>=1.4.3->feast[cassandra]==0.26) (2.8.2)\n",
      "Requirement already satisfied: pytz>=2020.1 in /opt/conda/lib/python3.8/site-packages (from pandas<2,>=1.4.3->feast[cassandra]==0.26) (2021.1)\n",
      "Requirement already satisfied: locket in /opt/conda/lib/python3.8/site-packages (from partd>=0.3.10->dask<2022.02.0,>=2021.*->feast[cassandra]==0.26) (0.2.1)\n",
      "Requirement already satisfied: pyasn1<0.5.0,>=0.4.6 in /opt/conda/lib/python3.8/site-packages (from pyasn1-modules>=0.2.1->google-auth<3.0dev,>=1.25.0->google-api-core<3,>=1.23.0->feast[cassandra]==0.26) (0.4.8)\n",
      "Requirement already satisfied: chardet<5,>=3.0.2 in /opt/conda/lib/python3.8/site-packages (from requests<3.0.0dev,>=2.18.0->google-api-core<3,>=1.23.0->feast[cassandra]==0.26) (4.0.0)\n",
      "Requirement already satisfied: certifi>=2017.4.17 in /opt/conda/lib/python3.8/site-packages (from requests<3.0.0dev,>=2.18.0->google-api-core<3,>=1.23.0->feast[cassandra]==0.26) (2021.5.30)\n",
      "Requirement already satisfied: urllib3<1.27,>=1.21.1 in /opt/conda/lib/python3.8/site-packages (from requests<3.0.0dev,>=2.18.0->google-api-core<3,>=1.23.0->feast[cassandra]==0.26) (1.26.5)\n",
      "Requirement already satisfied: greenlet!=0.4.17 in /opt/conda/lib/python3.8/site-packages (from SQLAlchemy[mypy]<2,>1->feast[cassandra]==0.26) (1.1.2)\n",
      "Collecting sqlalchemy2-stubs\n",
      "  Downloading sqlalchemy2_stubs-0.0.2a35-py3-none-any.whl (191 kB)\n",
      "\u001b[K     |████████████████████████████████| 191 kB 47.7 MB/s eta 0:00:01\n",
      "\u001b[?25hCollecting mypy>=0.800\n",
      "  Downloading mypy-1.5.1-cp38-cp38-manylinux_2_17_x86_64.manylinux2014_x86_64.whl (12.1 MB)\n",
      "\u001b[K     |████████████████████████████████| 12.1 MB 37.4 MB/s eta 0:00:01    |███████████████████████▍        | 8.8 MB 37.4 MB/s eta 0:00:01\n",
      "\u001b[?25hCollecting mypy-extensions>=1.0.0\n",
      "  Downloading mypy_extensions-1.0.0-py3-none-any.whl (4.7 kB)\n",
      "Collecting tomli>=1.1.0\n",
      "  Downloading tomli-2.0.1-py3-none-any.whl (12 kB)\n",
      "Collecting h11>=0.8\n",
      "  Downloading h11-0.14.0-py3-none-any.whl (58 kB)\n",
      "\u001b[K     |████████████████████████████████| 58 kB 5.0 MB/s  eta 0:00:01\n",
      "\u001b[?25hCollecting watchfiles>=0.13\n",
      "  Downloading watchfiles-0.20.0-cp37-abi3-manylinux_2_17_x86_64.manylinux2014_x86_64.whl (1.3 MB)\n",
      "\u001b[K     |████████████████████████████████| 1.3 MB 58.4 MB/s eta 0:00:01\n",
      "\u001b[?25hCollecting websockets>=10.4\n",
      "  Downloading websockets-11.0.3-cp38-cp38-manylinux_2_5_x86_64.manylinux1_x86_64.manylinux_2_17_x86_64.manylinux2014_x86_64.whl (130 kB)\n",
      "\u001b[K     |████████████████████████████████| 130 kB 58.6 MB/s eta 0:00:01\n",
      "\u001b[?25hCollecting uvloop!=0.15.0,!=0.15.1,>=0.14.0\n",
      "  Downloading uvloop-0.17.0-cp38-cp38-manylinux_2_17_x86_64.manylinux2014_x86_64.whl (4.6 MB)\n",
      "\u001b[K     |████████████████████████████████| 4.6 MB 37.6 MB/s eta 0:00:01\n",
      "\u001b[?25hCollecting httptools>=0.5.0\n",
      "  Downloading httptools-0.6.0-cp38-cp38-manylinux_2_5_x86_64.manylinux1_x86_64.manylinux_2_17_x86_64.manylinux2014_x86_64.whl (441 kB)\n",
      "\u001b[K     |████████████████████████████████| 441 kB 79.8 MB/s eta 0:00:01\n",
      "\u001b[?25hCollecting python-dotenv>=0.13\n",
      "  Downloading python_dotenv-1.0.0-py3-none-any.whl (19 kB)\n",
      "Collecting moreorless>=0.2.0\n",
      "  Downloading moreorless-0.4.0-py2.py3-none-any.whl (9.3 kB)\n",
      "Collecting fissix\n",
      "  Downloading fissix-21.11.13-py3-none-any.whl (188 kB)\n",
      "\u001b[K     |████████████████████████████████| 188 kB 81.2 MB/s eta 0:00:01\n",
      "\u001b[?25hRequirement already satisfied: attrs in /opt/conda/lib/python3.8/site-packages (from bowler->feast[cassandra]==0.26) (21.2.0)\n",
      "Collecting volatile\n",
      "  Downloading volatile-2.1.0.tar.gz (3.3 kB)\n",
      "Collecting appdirs\n",
      "  Downloading appdirs-1.4.4-py2.py3-none-any.whl (9.6 kB)\n",
      "Requirement already satisfied: pyrsistent>=0.14.0 in /opt/conda/lib/python3.8/site-packages (from jsonschema->feast[cassandra]==0.26) (0.17.3)\n",
      "Requirement already satisfied: importlib-metadata>=3.6 in /opt/conda/lib/python3.8/site-packages (from typeguard->feast[cassandra]==0.26) (4.12.0)\n",
      "Requirement already satisfied: zipp>=0.5 in /opt/conda/lib/python3.8/site-packages (from importlib-metadata>=3.6->typeguard->feast[cassandra]==0.26) (3.8.1)\n",
      "Building wheels for collected packages: pandavro, volatile\n",
      "  Building wheel for pandavro (setup.py) ... \u001b[?25ldone\n",
      "\u001b[?25h  Created wheel for pandavro: filename=pandavro-1.5.2-py3-none-any.whl size=2954 sha256=ca2ca4e362b9cd08340fc1ff84e4d6bbb48f1a7e50ddb67bc3b2813d075c7a96\n",
      "  Stored in directory: /home/jovyan/.cache/pip/wheels/21/03/ef/f7f69842521378eb3fd932bd3e13341e0b2c1617c56abc4da5\n",
      "  Building wheel for volatile (setup.py) ... \u001b[?25ldone\n",
      "\u001b[?25h  Created wheel for volatile: filename=volatile-2.1.0-py3-none-any.whl size=3468 sha256=34c5d28b936e5d110d42d5aee7565a633a25986646ad7138487c8beba3caa283\n",
      "  Stored in directory: /home/jovyan/.cache/pip/wheels/0c/ef/7a/2eaf3bbba895518a953834e4ffd572d30ccd98900a253baea5\n",
      "Successfully built pandavro volatile\n",
      "Installing collected packages: exceptiongroup, typing-extensions, tomli, protobuf, mypy-extensions, h11, appdirs, anyio, websockets, watchfiles, volatile, uvloop, uvicorn, starlette, sqlalchemy2-stubs, python-dotenv, pydantic, pandas, mypy, moreorless, httptools, grpcio, fissix, fastavro, typeguard, toml, tenacity, pygments, pyarrow, proto-plus, pandavro, mmh3, grpcio-reflection, geomet, fastapi, bowler, feast, cassandra-driver\n",
      "  Attempting uninstall: typing-extensions\n",
      "    Found existing installation: typing-extensions 4.1.1\n",
      "    Uninstalling typing-extensions-4.1.1:\n",
      "      Successfully uninstalled typing-extensions-4.1.1\n",
      "  Attempting uninstall: protobuf\n",
      "    Found existing installation: protobuf 3.17.3\n",
      "    Uninstalling protobuf-3.17.3:\n",
      "      Successfully uninstalled protobuf-3.17.3\n",
      "  Attempting uninstall: anyio\n",
      "    Found existing installation: anyio 3.1.0\n",
      "    Uninstalling anyio-3.1.0:\n",
      "      Successfully uninstalled anyio-3.1.0\n",
      "  Attempting uninstall: pandas\n",
      "    Found existing installation: pandas 2.0.3\n",
      "    Uninstalling pandas-2.0.3:\n",
      "      Successfully uninstalled pandas-2.0.3\n",
      "  Attempting uninstall: pygments\n",
      "    Found existing installation: Pygments 2.9.0\n",
      "    Uninstalling Pygments-2.9.0:\n",
      "      Successfully uninstalled Pygments-2.9.0\n",
      "  Attempting uninstall: pyarrow\n",
      "    Found existing installation: pyarrow 13.0.0\n",
      "    Uninstalling pyarrow-13.0.0:\n",
      "      Successfully uninstalled pyarrow-13.0.0\n",
      "\u001b[31mERROR: pip's dependency resolver does not currently take into account all the packages that are installed. This behaviour is the source of the following dependency conflicts.\n",
      "kfp 1.6.3 requires click<8,>=7.1.1, but you have click 8.1.3 which is incompatible.\n",
      "kfp 1.6.3 requires protobuf<4,>=3.13.0, but you have protobuf 4.24.3 which is incompatible.\n",
      "kfp-pipeline-spec 0.1.13 requires protobuf<4,>=3.13.0, but you have protobuf 4.24.3 which is incompatible.\u001b[0m\n",
      "Successfully installed anyio-3.7.1 appdirs-1.4.4 bowler-0.9.0 cassandra-driver-3.28.0 exceptiongroup-1.1.3 fastapi-0.103.1 fastavro-1.8.3 feast-0.26.0 fissix-21.11.13 geomet-0.2.1.post1 grpcio-1.58.0 grpcio-reflection-1.58.0 h11-0.14.0 httptools-0.6.0 mmh3-4.0.1 moreorless-0.4.0 mypy-1.5.1 mypy-extensions-1.0.0 pandas-1.5.3 pandavro-1.5.2 proto-plus-1.22.3 protobuf-4.24.3 pyarrow-8.0.0 pydantic-1.10.12 pygments-2.16.1 python-dotenv-1.0.0 sqlalchemy2-stubs-0.0.2a35 starlette-0.27.0 tenacity-8.2.3 toml-0.10.2 tomli-2.0.1 typeguard-4.1.5 typing-extensions-4.8.0 uvicorn-0.23.2 uvloop-0.17.0 volatile-2.1.0 watchfiles-0.20.0 websockets-11.0.3\n",
      "Note: you may need to restart the kernel to use updated packages.\n",
      "Collecting psycopg2-binary\n",
      "  Downloading psycopg2_binary-2.9.7-cp38-cp38-manylinux_2_17_x86_64.manylinux2014_x86_64.whl (3.0 MB)\n",
      "\u001b[K     |████████████████████████████████| 3.0 MB 1.4 MB/s eta 0:00:01\n",
      "\u001b[?25hInstalling collected packages: psycopg2-binary\n",
      "Successfully installed psycopg2-binary-2.9.7\n",
      "Note: you may need to restart the kernel to use updated packages.\n"
     ]
    }
   ],
   "source": [
    "%pip install feast[cassandra]==0.26\n",
    "%pip install psycopg2-binary"
   ]
  },
  {
   "cell_type": "code",
   "execution_count": 2,
   "id": "1c51c374-1876-42c4-ab9f-566189fd5f57",
   "metadata": {
    "tags": []
   },
   "outputs": [
    {
     "name": "stdout",
     "output_type": "stream",
     "text": [
      "Feast is an open source project that collects anonymized error reporting and usage statistics. To opt out or learn more see https://docs.feast.dev/reference/usage\n"
     ]
    },
    {
     "name": "stderr",
     "output_type": "stream",
     "text": [
      "/opt/conda/lib/python3.8/site-packages/dask/dataframe/backends.py:187: FutureWarning: pandas.Int64Index is deprecated and will be removed from pandas in a future version. Use pandas.Index with the appropriate dtype instead.\n",
      "  _numeric_index_types = (pd.Int64Index, pd.Float64Index, pd.UInt64Index)\n",
      "/opt/conda/lib/python3.8/site-packages/dask/dataframe/backends.py:187: FutureWarning: pandas.Float64Index is deprecated and will be removed from pandas in a future version. Use pandas.Index with the appropriate dtype instead.\n",
      "  _numeric_index_types = (pd.Int64Index, pd.Float64Index, pd.UInt64Index)\n",
      "/opt/conda/lib/python3.8/site-packages/dask/dataframe/backends.py:187: FutureWarning: pandas.UInt64Index is deprecated and will be removed from pandas in a future version. Use pandas.Index with the appropriate dtype instead.\n",
      "  _numeric_index_types = (pd.Int64Index, pd.Float64Index, pd.UInt64Index)\n"
     ]
    }
   ],
   "source": [
    "from feast import FeatureStore\n",
    "store = FeatureStore(repo_path=\".\")"
   ]
  },
  {
   "cell_type": "code",
   "execution_count": 3,
   "id": "4f275d80-a76f-4a83-afac-8cbafff81e2e",
   "metadata": {},
   "outputs": [
    {
     "name": "stderr",
     "output_type": "stream",
     "text": [
      "/opt/conda/lib/python3.8/site-packages/ipykernel/ipkernel.py:283: DeprecationWarning: `should_run_async` will not call `transform_cell` automatically in the future. Please pass the result to `transformed_cell` argument and any exception that happen during thetransform in `preprocessing_exc_tuple` in IPython 7.17 and above.\n",
      "  and should_run_async(code)\n"
     ]
    }
   ],
   "source": [
    "# !feast apply"
   ]
  },
  {
   "cell_type": "code",
   "execution_count": 4,
   "id": "179597cf-84a7-4d8a-8834-e661eb4819a1",
   "metadata": {},
   "outputs": [],
   "source": [
    "import pandas as pd"
   ]
  },
  {
   "cell_type": "code",
   "execution_count": 5,
   "id": "cedfbe09-6d72-459e-b2f2-f720728dad71",
   "metadata": {},
   "outputs": [],
   "source": [
    "loans = pd.read_parquet(\"loan_table.parquet\")"
   ]
  },
  {
   "cell_type": "code",
   "execution_count": 6,
   "id": "97420bf0-7958-4f1c-ae18-d988b065ec83",
   "metadata": {},
   "outputs": [
    {
     "name": "stderr",
     "output_type": "stream",
     "text": [
      "/opt/conda/lib/python3.8/site-packages/ipykernel/ipkernel.py:283: DeprecationWarning: `should_run_async` will not call `transform_cell` automatically in the future. Please pass the result to `transformed_cell` argument and any exception that happen during thetransform in `preprocessing_exc_tuple` in IPython 7.17 and above.\n",
      "  and should_run_async(code)\n"
     ]
    }
   ],
   "source": [
    "loan_times = loans[[\"loan_id\", \"event_timestamp\", \"created_timestamp\"]]"
   ]
  },
  {
   "cell_type": "code",
   "execution_count": 27,
   "id": "3b615f11-e08f-43c0-960b-01016f14f171",
   "metadata": {},
   "outputs": [],
   "source": [
    "# parquet_name = \"loan_approval_baseline.parquet\"\n",
    "# dataset_name = \"loan_approval_baseline\"\n",
    "\n",
    "# parquet_name = \"loan_approval_2022q3.parquet\"\n",
    "# dataset_name = \"loan_approval_2022q3_m1\"\n",
    "\n",
    "parquet_name = \"loan_approval_2022q4.parquet\"\n",
    "dataset_name = \"loan_approval_2022q4_m1\""
   ]
  },
  {
   "cell_type": "code",
   "execution_count": 28,
   "id": "efe48ef3-cf10-4320-8de9-1b92b2bb1611",
   "metadata": {},
   "outputs": [],
   "source": [
    "q3 = pd.read_parquet(parquet_name)[loans.columns]"
   ]
  },
  {
   "cell_type": "code",
   "execution_count": 29,
   "id": "fcc359f2-4a40-4c97-a85c-40c266efd9f6",
   "metadata": {},
   "outputs": [
    {
     "name": "stderr",
     "output_type": "stream",
     "text": [
      "/opt/conda/lib/python3.8/site-packages/ipykernel/ipkernel.py:283: DeprecationWarning: `should_run_async` will not call `transform_cell` automatically in the future. Please pass the result to `transformed_cell` argument and any exception that happen during thetransform in `preprocessing_exc_tuple` in IPython 7.17 and above.\n",
      "  and should_run_async(code)\n"
     ]
    }
   ],
   "source": [
    "q3_without_time = q3[['loan_id', 'dob_ssn', 'zipcode', 'person_age', 'person_income',\n",
    "       'person_home_ownership', 'person_emp_length', 'loan_intent',\n",
    "       'loan_amnt', 'loan_int_rate', 'loan_status']]"
   ]
  },
  {
   "cell_type": "code",
   "execution_count": 30,
   "id": "43462f80-48c4-449f-bb4b-d45cdf49bab9",
   "metadata": {},
   "outputs": [
    {
     "name": "stderr",
     "output_type": "stream",
     "text": [
      "/opt/conda/lib/python3.8/site-packages/ipykernel/ipkernel.py:283: DeprecationWarning: `should_run_async` will not call `transform_cell` automatically in the future. Please pass the result to `transformed_cell` argument and any exception that happen during thetransform in `preprocessing_exc_tuple` in IPython 7.17 and above.\n",
      "  and should_run_async(code)\n"
     ]
    }
   ],
   "source": [
    "merged = q3_without_time.merge(loan_times, on=\"loan_id\", how=\"left\")"
   ]
  },
  {
   "cell_type": "code",
   "execution_count": 31,
   "id": "89eee59f-d224-46d9-b0d7-3cb408d70605",
   "metadata": {},
   "outputs": [
    {
     "name": "stderr",
     "output_type": "stream",
     "text": [
      "/opt/conda/lib/python3.8/site-packages/ipykernel/ipkernel.py:283: DeprecationWarning: `should_run_async` will not call `transform_cell` automatically in the future. Please pass the result to `transformed_cell` argument and any exception that happen during thetransform in `preprocessing_exc_tuple` in IPython 7.17 and above.\n",
      "  and should_run_async(code)\n"
     ]
    }
   ],
   "source": [
    "loan_features = store.get_feature_service('loan_features')"
   ]
  },
  {
   "cell_type": "code",
   "execution_count": 32,
   "id": "ba51ff01-a841-454b-8094-73dac3671bd6",
   "metadata": {},
   "outputs": [],
   "source": [
    "from feast.infra.offline_stores.contrib.postgres_offline_store.postgres_source import (\n",
    "    PostgreSQLSource, SavedDatasetPostgreSQLStorage\n",
    ")\n",
    "\n",
    "training_features = store.get_historical_features(\n",
    "    entity_df=merged, \n",
    "    features=loan_features\n",
    ")"
   ]
  },
  {
   "cell_type": "code",
   "execution_count": 33,
   "id": "154bb952-ffcb-4c57-9a3b-81ca9f1f39c6",
   "metadata": {},
   "outputs": [
    {
     "name": "stderr",
     "output_type": "stream",
     "text": [
      "/opt/conda/lib/python3.8/site-packages/ipykernel/ipkernel.py:283: DeprecationWarning: `should_run_async` will not call `transform_cell` automatically in the future. Please pass the result to `transformed_cell` argument and any exception that happen during thetransform in `preprocessing_exc_tuple` in IPython 7.17 and above.\n",
      "  and should_run_async(code)\n",
      "/opt/conda/lib/python3.8/site-packages/feast/feature_store.py:1182: RuntimeWarning: Saving dataset is an experimental feature. This API is unstable and it could and most probably will be changed in the future. We do not guarantee that future changes will maintain backward compatibility.\n",
      "  warnings.warn(\n"
     ]
    }
   ],
   "source": [
    "dataset = store.create_saved_dataset(\n",
    "    from_=training_features,\n",
    "    name=dataset_name,\n",
    "    storage=SavedDatasetPostgreSQLStorage(table_ref=dataset_name)\n",
    ")"
   ]
  },
  {
   "cell_type": "code",
   "execution_count": 26,
   "id": "31519c25-4977-4e49-802d-59e66e93ad5b",
   "metadata": {},
   "outputs": [
    {
     "name": "stderr",
     "output_type": "stream",
     "text": [
      "/opt/conda/lib/python3.8/site-packages/ipykernel/ipkernel.py:283: DeprecationWarning: `should_run_async` will not call `transform_cell` automatically in the future. Please pass the result to `transformed_cell` argument and any exception that happen during thetransform in `preprocessing_exc_tuple` in IPython 7.17 and above.\n",
      "  and should_run_async(code)\n"
     ]
    },
    {
     "name": "stdout",
     "output_type": "stream",
     "text": [
      "droped\n"
     ]
    }
   ],
   "source": [
    "import psycopg2\n",
    "from psycopg2.extensions import ISOLATION_LEVEL_AUTOCOMMIT\n",
    "\n",
    "conn = None\n",
    "cur = None\n",
    "\n",
    "try:\n",
    "    conn = psycopg2.connect(\"host=cassandra-postgresql.feast-db port=5432 dbname=FEAST_OFFLINE_STORE user=postgres password=postgres\")\n",
    "    conn.set_isolation_level(ISOLATION_LEVEL_AUTOCOMMIT);\n",
    "    cur = conn.cursor()\n",
    "    cur.execute('DROP TABLE IF EXISTS loan_approval_2022q4_m1;')\n",
    "    print('droped')\n",
    "except:\n",
    "    if cur is not None:\n",
    "        cur.close()\n",
    "    if conn is not None:\n",
    "        conn.close()"
   ]
  },
  {
   "cell_type": "code",
   "execution_count": null,
   "id": "a58a215d-5738-4627-bf03-288c50eb25cc",
   "metadata": {},
   "outputs": [],
   "source": []
  },
  {
   "cell_type": "code",
   "execution_count": null,
   "id": "d67b1c2a-b47c-40e1-af74-895c35eae35c",
   "metadata": {},
   "outputs": [],
   "source": [
    "# "
   ]
  }
 ],
 "metadata": {
  "kernelspec": {
   "display_name": "Python 3",
   "language": "python",
   "name": "python3"
  },
  "language_info": {
   "codemirror_mode": {
    "name": "ipython",
    "version": 3
   },
   "file_extension": ".py",
   "mimetype": "text/x-python",
   "name": "python",
   "nbconvert_exporter": "python",
   "pygments_lexer": "ipython3",
   "version": "3.8.10"
  }
 },
 "nbformat": 4,
 "nbformat_minor": 5
}
