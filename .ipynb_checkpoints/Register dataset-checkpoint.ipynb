{
 "cells": [
  {
   "cell_type": "code",
   "execution_count": 1,
   "id": "c017c3e4-8443-400c-b103-5263438d0bce",
   "metadata": {
    "collapsed": true,
    "jupyter": {
     "outputs_hidden": true
    },
    "tags": []
   },
   "outputs": [
    {
     "name": "stdout",
     "output_type": "stream",
     "text": [
      "Collecting feast[cassandra]==0.26\n",
      "  Using cached feast-0.26.0-cp38-cp38-manylinux_2_17_x86_64.manylinux2014_x86_64.whl (29.0 MB)\n",
      "Requirement already satisfied: googleapis-common-protos<2,>=1.52.* in /opt/conda/lib/python3.8/site-packages (from feast[cassandra]==0.26) (1.55.0)\n",
      "Collecting uvicorn[standard]<1,>=0.14.0\n",
      "  Using cached uvicorn-0.21.1-py3-none-any.whl (57 kB)\n",
      "Requirement already satisfied: dill==0.3.* in /opt/conda/lib/python3.8/site-packages (from feast[cassandra]==0.26) (0.3.4)\n",
      "Collecting proto-plus<2,>=1.20.0\n",
      "  Using cached proto_plus-1.22.2-py3-none-any.whl (47 kB)\n",
      "Collecting grpcio<2,>=1.47.0\n",
      "  Downloading grpcio-1.54.0-cp38-cp38-manylinux_2_17_x86_64.manylinux2014_x86_64.whl (5.1 MB)\n",
      "\u001b[K     |████████████████████████████████| 5.1 MB 26.4 MB/s eta 0:00:01/s eta 0:00:01\n",
      "\u001b[?25hCollecting fastapi<1,>=0.68.0\n",
      "  Using cached fastapi-0.95.1-py3-none-any.whl (56 kB)\n",
      "Collecting tenacity<9,>=7\n",
      "  Using cached tenacity-8.2.2-py3-none-any.whl (24 kB)\n",
      "Collecting fastavro<2,>=1.1.0\n",
      "  Using cached fastavro-1.7.3-cp38-cp38-manylinux_2_17_x86_64.manylinux2014_x86_64.whl (2.7 MB)\n",
      "Requirement already satisfied: Jinja2<4,>=2 in /opt/conda/lib/python3.8/site-packages (from feast[cassandra]==0.26) (3.0.1)\n",
      "Requirement already satisfied: SQLAlchemy[mypy]<2,>1 in /opt/conda/lib/python3.8/site-packages (from feast[cassandra]==0.26) (1.4.18)\n",
      "Requirement already satisfied: tqdm<5,>=4 in /opt/conda/lib/python3.8/site-packages (from feast[cassandra]==0.26) (4.61.0)\n",
      "Collecting pygments<3,>=2.12.0\n",
      "  Downloading Pygments-2.15.1-py3-none-any.whl (1.1 MB)\n",
      "\u001b[K     |████████████████████████████████| 1.1 MB 62.4 MB/s eta 0:00:01\n",
      "\u001b[?25hRequirement already satisfied: protobuf<5,>3 in /opt/conda/lib/python3.8/site-packages (from feast[cassandra]==0.26) (3.17.3)\n",
      "Collecting pydantic<2,>=1\n",
      "  Using cached pydantic-1.10.7-cp38-cp38-manylinux_2_17_x86_64.manylinux2014_x86_64.whl (3.2 MB)\n",
      "Requirement already satisfied: PyYAML<7,>=5.4.* in /opt/conda/lib/python3.8/site-packages (from feast[cassandra]==0.26) (5.4.1)\n",
      "Collecting grpcio-reflection<2,>=1.47.0\n",
      "  Downloading grpcio_reflection-1.54.0-py3-none-any.whl (11 kB)\n",
      "Requirement already satisfied: google-api-core<3,>=1.23.0 in /opt/conda/lib/python3.8/site-packages (from feast[cassandra]==0.26) (2.7.1)\n",
      "Collecting pandas<2,>=1.4.3\n",
      "  Using cached pandas-1.5.3-cp38-cp38-manylinux_2_17_x86_64.manylinux2014_x86_64.whl (12.2 MB)\n",
      "Requirement already satisfied: click<9.0.0,>=7.0.0 in /opt/conda/lib/python3.8/site-packages (from feast[cassandra]==0.26) (8.1.3)\n",
      "Requirement already satisfied: dask<2022.02.0,>=2021.* in /opt/conda/lib/python3.8/site-packages (from feast[cassandra]==0.26) (2021.6.1)\n",
      "Collecting toml<1,>=0.10.0\n",
      "  Using cached toml-0.10.2-py2.py3-none-any.whl (16 kB)\n",
      "Requirement already satisfied: numpy<3,>=1.22 in /opt/conda/lib/python3.8/site-packages (from feast[cassandra]==0.26) (1.22.3)\n",
      "Collecting pandavro==1.5.*\n",
      "  Using cached pandavro-1.5.2-py3-none-any.whl\n",
      "Requirement already satisfied: tabulate<1,>=0.8.0 in /opt/conda/lib/python3.8/site-packages (from feast[cassandra]==0.26) (0.8.9)\n",
      "Collecting typeguard\n",
      "  Using cached typeguard-3.0.2-py3-none-any.whl (30 kB)\n",
      "Collecting bowler\n",
      "  Using cached bowler-0.9.0-py3-none-any.whl (36 kB)\n",
      "Collecting mmh3\n",
      "  Using cached mmh3-3.1.0-cp38-cp38-manylinux_2_5_x86_64.manylinux1_x86_64.manylinux_2_17_x86_64.manylinux2014_x86_64.whl (38 kB)\n",
      "Requirement already satisfied: jsonschema in /opt/conda/lib/python3.8/site-packages (from feast[cassandra]==0.26) (3.2.0)\n",
      "Requirement already satisfied: colorama<1,>=0.3.9 in /opt/conda/lib/python3.8/site-packages (from feast[cassandra]==0.26) (0.4.4)\n",
      "Collecting pyarrow<9,>=4\n",
      "  Using cached pyarrow-8.0.0-cp38-cp38-manylinux_2_17_x86_64.manylinux2014_x86_64.whl (29.4 MB)\n",
      "Collecting cassandra-driver<4,>=3.24.0\n",
      "  Using cached cassandra_driver-3.26.0-cp38-cp38-manylinux_2_5_x86_64.manylinux1_x86_64.whl (3.7 MB)\n",
      "Requirement already satisfied: six>=1.9 in /opt/conda/lib/python3.8/site-packages (from pandavro==1.5.*->feast[cassandra]==0.26) (1.16.0)\n",
      "Collecting geomet<0.3,>=0.1\n",
      "  Using cached geomet-0.2.1.post1-py3-none-any.whl (18 kB)\n",
      "Requirement already satisfied: cloudpickle>=1.1.1 in /opt/conda/lib/python3.8/site-packages (from dask<2022.02.0,>=2021.*->feast[cassandra]==0.26) (1.6.0)\n",
      "Requirement already satisfied: fsspec>=0.6.0 in /opt/conda/lib/python3.8/site-packages (from dask<2022.02.0,>=2021.*->feast[cassandra]==0.26) (2022.2.0)\n",
      "Requirement already satisfied: toolz>=0.8.2 in /opt/conda/lib/python3.8/site-packages (from dask<2022.02.0,>=2021.*->feast[cassandra]==0.26) (0.11.2)\n",
      "Requirement already satisfied: partd>=0.3.10 in /opt/conda/lib/python3.8/site-packages (from dask<2022.02.0,>=2021.*->feast[cassandra]==0.26) (1.2.0)\n",
      "Collecting starlette<0.27.0,>=0.26.1\n",
      "  Using cached starlette-0.26.1-py3-none-any.whl (66 kB)\n",
      "Requirement already satisfied: google-auth<3.0dev,>=1.25.0 in /opt/conda/lib/python3.8/site-packages (from google-api-core<3,>=1.23.0->feast[cassandra]==0.26) (1.35.0)\n",
      "Requirement already satisfied: requests<3.0.0dev,>=2.18.0 in /opt/conda/lib/python3.8/site-packages (from google-api-core<3,>=1.23.0->feast[cassandra]==0.26) (2.25.1)\n",
      "Requirement already satisfied: rsa<5,>=3.1.4 in /opt/conda/lib/python3.8/site-packages (from google-auth<3.0dev,>=1.25.0->google-api-core<3,>=1.23.0->feast[cassandra]==0.26) (4.8)\n",
      "Requirement already satisfied: cachetools<5.0,>=2.0.0 in /opt/conda/lib/python3.8/site-packages (from google-auth<3.0dev,>=1.25.0->google-api-core<3,>=1.23.0->feast[cassandra]==0.26) (4.2.4)\n",
      "Requirement already satisfied: setuptools>=40.3.0 in /opt/conda/lib/python3.8/site-packages (from google-auth<3.0dev,>=1.25.0->google-api-core<3,>=1.23.0->feast[cassandra]==0.26) (49.6.0.post20210108)\n",
      "Requirement already satisfied: pyasn1-modules>=0.2.1 in /opt/conda/lib/python3.8/site-packages (from google-auth<3.0dev,>=1.25.0->google-api-core<3,>=1.23.0->feast[cassandra]==0.26) (0.2.8)\n",
      "Collecting protobuf<5,>3\n",
      "  Using cached protobuf-4.22.3-cp37-abi3-manylinux2014_x86_64.whl (302 kB)\n",
      "Requirement already satisfied: MarkupSafe>=2.0 in /opt/conda/lib/python3.8/site-packages (from Jinja2<4,>=2->feast[cassandra]==0.26) (2.1.1)\n",
      "Requirement already satisfied: python-dateutil>=2.8.1 in /opt/conda/lib/python3.8/site-packages (from pandas<2,>=1.4.3->feast[cassandra]==0.26) (2.8.1)\n",
      "Requirement already satisfied: pytz>=2020.1 in /opt/conda/lib/python3.8/site-packages (from pandas<2,>=1.4.3->feast[cassandra]==0.26) (2021.1)\n",
      "Requirement already satisfied: locket in /opt/conda/lib/python3.8/site-packages (from partd>=0.3.10->dask<2022.02.0,>=2021.*->feast[cassandra]==0.26) (0.2.1)\n",
      "Requirement already satisfied: pyasn1<0.5.0,>=0.4.6 in /opt/conda/lib/python3.8/site-packages (from pyasn1-modules>=0.2.1->google-auth<3.0dev,>=1.25.0->google-api-core<3,>=1.23.0->feast[cassandra]==0.26) (0.4.8)\n",
      "Collecting typing-extensions>=4.2.0\n",
      "  Using cached typing_extensions-4.5.0-py3-none-any.whl (27 kB)\n",
      "Requirement already satisfied: chardet<5,>=3.0.2 in /opt/conda/lib/python3.8/site-packages (from requests<3.0.0dev,>=2.18.0->google-api-core<3,>=1.23.0->feast[cassandra]==0.26) (4.0.0)\n",
      "Requirement already satisfied: certifi>=2017.4.17 in /opt/conda/lib/python3.8/site-packages (from requests<3.0.0dev,>=2.18.0->google-api-core<3,>=1.23.0->feast[cassandra]==0.26) (2021.5.30)\n",
      "Requirement already satisfied: idna<3,>=2.5 in /opt/conda/lib/python3.8/site-packages (from requests<3.0.0dev,>=2.18.0->google-api-core<3,>=1.23.0->feast[cassandra]==0.26) (2.10)\n",
      "Requirement already satisfied: urllib3<1.27,>=1.21.1 in /opt/conda/lib/python3.8/site-packages (from requests<3.0.0dev,>=2.18.0->google-api-core<3,>=1.23.0->feast[cassandra]==0.26) (1.26.5)\n",
      "Requirement already satisfied: greenlet!=0.4.17 in /opt/conda/lib/python3.8/site-packages (from SQLAlchemy[mypy]<2,>1->feast[cassandra]==0.26) (1.1.2)\n",
      "Collecting sqlalchemy2-stubs\n",
      "  Downloading sqlalchemy2_stubs-0.0.2a34-py3-none-any.whl (191 kB)\n",
      "\u001b[K     |████████████████████████████████| 191 kB 67.2 MB/s eta 0:00:01\n",
      "\u001b[?25hCollecting mypy>=0.800\n",
      "  Using cached mypy-1.2.0-cp38-cp38-manylinux_2_17_x86_64.manylinux2014_x86_64.whl (12.2 MB)\n",
      "Collecting mypy-extensions>=1.0.0\n",
      "  Using cached mypy_extensions-1.0.0-py3-none-any.whl (4.7 kB)\n",
      "Collecting tomli>=1.1.0\n",
      "  Using cached tomli-2.0.1-py3-none-any.whl (12 kB)\n",
      "Collecting anyio<5,>=3.4.0\n",
      "  Using cached anyio-3.6.2-py3-none-any.whl (80 kB)\n",
      "Requirement already satisfied: sniffio>=1.1 in /opt/conda/lib/python3.8/site-packages (from anyio<5,>=3.4.0->starlette<0.27.0,>=0.26.1->fastapi<1,>=0.68.0->feast[cassandra]==0.26) (1.2.0)\n",
      "Collecting h11>=0.8\n",
      "  Using cached h11-0.14.0-py3-none-any.whl (58 kB)\n",
      "Collecting watchfiles>=0.13\n",
      "  Using cached watchfiles-0.19.0-cp37-abi3-manylinux_2_17_x86_64.manylinux2014_x86_64.whl (1.3 MB)\n",
      "Collecting python-dotenv>=0.13\n",
      "  Using cached python_dotenv-1.0.0-py3-none-any.whl (19 kB)\n",
      "Collecting websockets>=10.4\n",
      "  Downloading websockets-11.0.2-cp38-cp38-manylinux_2_5_x86_64.manylinux1_x86_64.manylinux_2_17_x86_64.manylinux2014_x86_64.whl (130 kB)\n",
      "\u001b[K     |████████████████████████████████| 130 kB 39.0 MB/s eta 0:00:01\n",
      "\u001b[?25hCollecting httptools>=0.5.0\n",
      "  Using cached httptools-0.5.0-cp38-cp38-manylinux_2_5_x86_64.manylinux1_x86_64.manylinux_2_17_x86_64.manylinux2014_x86_64.whl (427 kB)\n",
      "Collecting uvloop!=0.15.0,!=0.15.1,>=0.14.0\n",
      "  Using cached uvloop-0.17.0-cp38-cp38-manylinux_2_17_x86_64.manylinux2014_x86_64.whl (4.6 MB)\n",
      "Requirement already satisfied: attrs in /opt/conda/lib/python3.8/site-packages (from bowler->feast[cassandra]==0.26) (21.2.0)\n",
      "Collecting volatile\n",
      "  Using cached volatile-2.1.0-py3-none-any.whl\n",
      "Collecting fissix\n",
      "  Using cached fissix-21.11.13-py3-none-any.whl (188 kB)\n",
      "Collecting moreorless>=0.2.0\n",
      "  Using cached moreorless-0.4.0-py2.py3-none-any.whl (9.3 kB)\n",
      "Collecting appdirs\n",
      "  Using cached appdirs-1.4.4-py2.py3-none-any.whl (9.6 kB)\n",
      "Requirement already satisfied: pyrsistent>=0.14.0 in /opt/conda/lib/python3.8/site-packages (from jsonschema->feast[cassandra]==0.26) (0.17.3)\n",
      "Requirement already satisfied: importlib-metadata>=3.6 in /opt/conda/lib/python3.8/site-packages (from typeguard->feast[cassandra]==0.26) (4.12.0)\n",
      "Requirement already satisfied: zipp>=0.5 in /opt/conda/lib/python3.8/site-packages (from importlib-metadata>=3.6->typeguard->feast[cassandra]==0.26) (3.8.1)\n",
      "Installing collected packages: typing-extensions, tomli, protobuf, mypy-extensions, h11, appdirs, anyio, websockets, watchfiles, volatile, uvloop, uvicorn, starlette, sqlalchemy2-stubs, python-dotenv, pydantic, pandas, mypy, moreorless, httptools, grpcio, fissix, fastavro, typeguard, toml, tenacity, pygments, pyarrow, proto-plus, pandavro, mmh3, grpcio-reflection, geomet, fastapi, bowler, feast, cassandra-driver\n",
      "  Attempting uninstall: typing-extensions\n",
      "    Found existing installation: typing-extensions 4.1.1\n",
      "    Uninstalling typing-extensions-4.1.1:\n",
      "      Successfully uninstalled typing-extensions-4.1.1\n",
      "  Attempting uninstall: protobuf\n",
      "    Found existing installation: protobuf 3.17.3\n",
      "    Uninstalling protobuf-3.17.3:\n",
      "      Successfully uninstalled protobuf-3.17.3\n",
      "  Attempting uninstall: anyio\n",
      "    Found existing installation: anyio 3.1.0\n",
      "    Uninstalling anyio-3.1.0:\n",
      "      Successfully uninstalled anyio-3.1.0\n",
      "  Attempting uninstall: pandas\n",
      "    Found existing installation: pandas 1.2.4\n",
      "    Uninstalling pandas-1.2.4:\n",
      "      Successfully uninstalled pandas-1.2.4\n",
      "  Attempting uninstall: pygments\n",
      "    Found existing installation: Pygments 2.9.0\n",
      "    Uninstalling Pygments-2.9.0:\n",
      "      Successfully uninstalled Pygments-2.9.0\n",
      "\u001b[31mERROR: pip's dependency resolver does not currently take into account all the packages that are installed. This behaviour is the source of the following dependency conflicts.\n",
      "kfp 1.6.3 requires click<8,>=7.1.1, but you have click 8.1.3 which is incompatible.\n",
      "kfp 1.6.3 requires protobuf<4,>=3.13.0, but you have protobuf 4.22.3 which is incompatible.\n",
      "kfp-pipeline-spec 0.1.13 requires protobuf<4,>=3.13.0, but you have protobuf 4.22.3 which is incompatible.\u001b[0m\n",
      "Successfully installed anyio-3.6.2 appdirs-1.4.4 bowler-0.9.0 cassandra-driver-3.26.0 fastapi-0.95.1 fastavro-1.7.3 feast-0.26.0 fissix-21.11.13 geomet-0.2.1.post1 grpcio-1.54.0 grpcio-reflection-1.54.0 h11-0.14.0 httptools-0.5.0 mmh3-3.1.0 moreorless-0.4.0 mypy-1.2.0 mypy-extensions-1.0.0 pandas-1.5.3 pandavro-1.5.2 proto-plus-1.22.2 protobuf-4.22.3 pyarrow-8.0.0 pydantic-1.10.7 pygments-2.15.1 python-dotenv-1.0.0 sqlalchemy2-stubs-0.0.2a34 starlette-0.26.1 tenacity-8.2.2 toml-0.10.2 tomli-2.0.1 typeguard-3.0.2 typing-extensions-4.5.0 uvicorn-0.21.1 uvloop-0.17.0 volatile-2.1.0 watchfiles-0.19.0 websockets-11.0.2\n",
      "Note: you may need to restart the kernel to use updated packages.\n",
      "Collecting psycopg2-binary\n",
      "  Using cached psycopg2_binary-2.9.6-cp38-cp38-manylinux_2_17_x86_64.manylinux2014_x86_64.whl (3.0 MB)\n",
      "Installing collected packages: psycopg2-binary\n",
      "Successfully installed psycopg2-binary-2.9.6\n",
      "Note: you may need to restart the kernel to use updated packages.\n"
     ]
    }
   ],
   "source": [
    "# %pip install feast[cassandra]==0.26\n",
    "# %pip install psycopg2-binary"
   ]
  },
  {
   "cell_type": "code",
   "execution_count": 33,
   "id": "1c51c374-1876-42c4-ab9f-566189fd5f57",
   "metadata": {
    "tags": []
   },
   "outputs": [
    {
     "name": "stderr",
     "output_type": "stream",
     "text": [
      "/opt/conda/lib/python3.8/site-packages/ipykernel/ipkernel.py:283: DeprecationWarning: `should_run_async` will not call `transform_cell` automatically in the future. Please pass the result to `transformed_cell` argument and any exception that happen during thetransform in `preprocessing_exc_tuple` in IPython 7.17 and above.\n",
      "  and should_run_async(code)\n"
     ]
    }
   ],
   "source": [
    "from feast import FeatureStore\n",
    "store = FeatureStore(repo_path=\".\")"
   ]
  },
  {
   "cell_type": "code",
   "execution_count": 34,
   "id": "4f275d80-a76f-4a83-afac-8cbafff81e2e",
   "metadata": {},
   "outputs": [],
   "source": [
    "# !feast apply"
   ]
  },
  {
   "cell_type": "code",
   "execution_count": 35,
   "id": "179597cf-84a7-4d8a-8834-e661eb4819a1",
   "metadata": {},
   "outputs": [],
   "source": [
    "import pandas as pd"
   ]
  },
  {
   "cell_type": "code",
   "execution_count": 36,
   "id": "cedfbe09-6d72-459e-b2f2-f720728dad71",
   "metadata": {},
   "outputs": [],
   "source": [
    "loans = pd.read_parquet(\"loan_table.parquet\")"
   ]
  },
  {
   "cell_type": "code",
   "execution_count": 37,
   "id": "97420bf0-7958-4f1c-ae18-d988b065ec83",
   "metadata": {},
   "outputs": [
    {
     "name": "stderr",
     "output_type": "stream",
     "text": [
      "/opt/conda/lib/python3.8/site-packages/ipykernel/ipkernel.py:283: DeprecationWarning: `should_run_async` will not call `transform_cell` automatically in the future. Please pass the result to `transformed_cell` argument and any exception that happen during thetransform in `preprocessing_exc_tuple` in IPython 7.17 and above.\n",
      "  and should_run_async(code)\n"
     ]
    }
   ],
   "source": [
    "loan_times = loans[[\"loan_id\", \"event_timestamp\", \"created_timestamp\"]]"
   ]
  },
  {
   "cell_type": "code",
   "execution_count": 38,
   "id": "3b615f11-e08f-43c0-960b-01016f14f171",
   "metadata": {},
   "outputs": [
    {
     "name": "stderr",
     "output_type": "stream",
     "text": [
      "/opt/conda/lib/python3.8/site-packages/ipykernel/ipkernel.py:283: DeprecationWarning: `should_run_async` will not call `transform_cell` automatically in the future. Please pass the result to `transformed_cell` argument and any exception that happen during thetransform in `preprocessing_exc_tuple` in IPython 7.17 and above.\n",
      "  and should_run_async(code)\n"
     ]
    }
   ],
   "source": [
    "parquet_name = \"loan_approval_baseline.parquet\"\n",
    "dataset_name = \"loan_approval_baseline\"\n",
    "\n",
    "# parquet_name = \"loan_approval_2022q3.parquet\"\n",
    "# dataset_name = \"loan_approval_2022q3_m1\"\n",
    "\n",
    "# parquet_name = \"loan_approval_2022q4.parquet\"\n",
    "# dataset_name = \"loan_approval_2022q4_m1\""
   ]
  },
  {
   "cell_type": "code",
   "execution_count": 39,
   "id": "efe48ef3-cf10-4320-8de9-1b92b2bb1611",
   "metadata": {},
   "outputs": [],
   "source": [
    "q3 = pd.read_parquet(parquet_name)[loans.columns]"
   ]
  },
  {
   "cell_type": "code",
   "execution_count": 40,
   "id": "fcc359f2-4a40-4c97-a85c-40c266efd9f6",
   "metadata": {},
   "outputs": [
    {
     "name": "stderr",
     "output_type": "stream",
     "text": [
      "/opt/conda/lib/python3.8/site-packages/ipykernel/ipkernel.py:283: DeprecationWarning: `should_run_async` will not call `transform_cell` automatically in the future. Please pass the result to `transformed_cell` argument and any exception that happen during thetransform in `preprocessing_exc_tuple` in IPython 7.17 and above.\n",
      "  and should_run_async(code)\n"
     ]
    }
   ],
   "source": [
    "q3_without_time = q3[['loan_id', 'dob_ssn', 'zipcode', 'person_age', 'person_income',\n",
    "       'person_home_ownership', 'person_emp_length', 'loan_intent',\n",
    "       'loan_amnt', 'loan_int_rate', 'loan_status']]"
   ]
  },
  {
   "cell_type": "code",
   "execution_count": 41,
   "id": "43462f80-48c4-449f-bb4b-d45cdf49bab9",
   "metadata": {},
   "outputs": [
    {
     "name": "stderr",
     "output_type": "stream",
     "text": [
      "/opt/conda/lib/python3.8/site-packages/ipykernel/ipkernel.py:283: DeprecationWarning: `should_run_async` will not call `transform_cell` automatically in the future. Please pass the result to `transformed_cell` argument and any exception that happen during thetransform in `preprocessing_exc_tuple` in IPython 7.17 and above.\n",
      "  and should_run_async(code)\n"
     ]
    }
   ],
   "source": [
    "merged = q3_without_time.merge(loan_times, on=\"loan_id\", how=\"left\")"
   ]
  },
  {
   "cell_type": "code",
   "execution_count": 42,
   "id": "89eee59f-d224-46d9-b0d7-3cb408d70605",
   "metadata": {},
   "outputs": [
    {
     "name": "stderr",
     "output_type": "stream",
     "text": [
      "/opt/conda/lib/python3.8/site-packages/ipykernel/ipkernel.py:283: DeprecationWarning: `should_run_async` will not call `transform_cell` automatically in the future. Please pass the result to `transformed_cell` argument and any exception that happen during thetransform in `preprocessing_exc_tuple` in IPython 7.17 and above.\n",
      "  and should_run_async(code)\n"
     ]
    }
   ],
   "source": [
    "loan_features = store.get_feature_service('loan_features')"
   ]
  },
  {
   "cell_type": "code",
   "execution_count": 43,
   "id": "ba51ff01-a841-454b-8094-73dac3671bd6",
   "metadata": {},
   "outputs": [
    {
     "name": "stderr",
     "output_type": "stream",
     "text": [
      "/opt/conda/lib/python3.8/site-packages/feast/feature_store.py:1182: RuntimeWarning: Saving dataset is an experimental feature. This API is unstable and it could and most probably will be changed in the future. We do not guarantee that future changes will maintain backward compatibility.\n",
      "  warnings.warn(\n"
     ]
    }
   ],
   "source": [
    "from feast.infra.offline_stores.contrib.postgres_offline_store.postgres_source import (\n",
    "    PostgreSQLSource, SavedDatasetPostgreSQLStorage\n",
    ")\n",
    "\n",
    "training_features = store.get_historical_features(\n",
    "    entity_df=merged, \n",
    "    features=loan_features\n",
    ")\n",
    "\n",
    "dataset = store.create_saved_dataset(\n",
    "    from_=training_features,\n",
    "    name=dataset_name,\n",
    "    storage=SavedDatasetPostgreSQLStorage(table_ref=dataset_name)\n",
    ")"
   ]
  },
  {
   "cell_type": "code",
   "execution_count": 44,
   "id": "31519c25-4977-4e49-802d-59e66e93ad5b",
   "metadata": {},
   "outputs": [
    {
     "name": "stderr",
     "output_type": "stream",
     "text": [
      "/opt/conda/lib/python3.8/site-packages/ipykernel/ipkernel.py:283: DeprecationWarning: `should_run_async` will not call `transform_cell` automatically in the future. Please pass the result to `transformed_cell` argument and any exception that happen during thetransform in `preprocessing_exc_tuple` in IPython 7.17 and above.\n",
      "  and should_run_async(code)\n"
     ]
    }
   ],
   "source": [
    "# import psycopg2\n",
    "# from psycopg2.extensions import ISOLATION_LEVEL_AUTOCOMMIT\n",
    "\n",
    "# conn = None\n",
    "# cur = None\n",
    "\n",
    "# try:\n",
    "#     conn = psycopg2.connect(\"host=cassandra-postgresql.feast-db port=5432 dbname=FEAST_OFFLINE_STORE user=postgres password=postgres\")\n",
    "#     conn.set_isolation_level(ISOLATION_LEVEL_AUTOCOMMIT);\n",
    "#     cur = conn.cursor()\n",
    "#     cur.execute('DROP TABLE IF EXISTS loan_approval_2022q4;')\n",
    "#     print('droped')\n",
    "# except:\n",
    "#     if cur is not None:\n",
    "#         cur.close()\n",
    "#     if conn is not None:\n",
    "#         conn.close()"
   ]
  },
  {
   "cell_type": "code",
   "execution_count": null,
   "id": "a58a215d-5738-4627-bf03-288c50eb25cc",
   "metadata": {},
   "outputs": [],
   "source": []
  },
  {
   "cell_type": "code",
   "execution_count": null,
   "id": "d67b1c2a-b47c-40e1-af74-895c35eae35c",
   "metadata": {},
   "outputs": [],
   "source": []
  }
 ],
 "metadata": {
  "kernelspec": {
   "display_name": "Python 3",
   "language": "python",
   "name": "python3"
  },
  "language_info": {
   "codemirror_mode": {
    "name": "ipython",
    "version": 3
   },
   "file_extension": ".py",
   "mimetype": "text/x-python",
   "name": "python",
   "nbconvert_exporter": "python",
   "pygments_lexer": "ipython3",
   "version": "3.8.10"
  }
 },
 "nbformat": 4,
 "nbformat_minor": 5
}
