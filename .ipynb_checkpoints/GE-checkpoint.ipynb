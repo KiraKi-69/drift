{
 "cells": [
  {
   "cell_type": "markdown",
   "id": "189a630c",
   "metadata": {},
   "source": [
    "Подключаем нужные библиотеки."
   ]
  },
  {
   "cell_type": "code",
   "execution_count": 1,
   "id": "3128b25e",
   "metadata": {},
   "outputs": [],
   "source": [
    "from datetime import timedelta\n",
    "import pandas as pd\n",
    "from feast.data_format import ParquetFormat\n",
    "from feast import (Entity, Feature, FeatureView, FileSource, ValueType, FeatureStore, Field)\n",
    "from feast.types import Int64, UnixTimestamp, String, Float32\n",
    "from feast.infra.offline_stores.file_source import FileSource\n",
    "from feast.infra.offline_stores.file import SavedDatasetFileStorage\n",
    "import numpy as np\n",
    "from feast.dqm.profilers.ge_profiler import ge_profiler\n",
    "from great_expectations.core.expectation_suite import ExpectationSuite\n",
    "from great_expectations.dataset import PandasDataset"
   ]
  },
  {
   "cell_type": "markdown",
   "id": "6d16f5e6-8872-40a2-95ef-25f01881ed9d",
   "metadata": {},
   "source": [
    "### Создание FeatureView на основе данных кредитной истории клиента"
   ]
  },
  {
   "cell_type": "markdown",
   "id": "04f8b501",
   "metadata": {},
   "source": [
    "Прописываем пути к локальным данным."
   ]
  },
  {
   "cell_type": "code",
   "execution_count": 2,
   "id": "2e853009",
   "metadata": {},
   "outputs": [],
   "source": [
    "zipcode_path = \"data/zipcode_table.parquet\"\n",
    "credit_history_path = \"data/credit_history.parquet\""
   ]
  },
  {
   "cell_type": "markdown",
   "id": "2a085476",
   "metadata": {},
   "source": [
    "Конструируем фичи."
   ]
  },
  {
   "cell_type": "code",
   "execution_count": 3,
   "id": "cd7d5e2e-62ae-4af3-af17-92944e1a3354",
   "metadata": {},
   "outputs": [],
   "source": [
    "# Создаем FeatureView для географических данных\n",
    "\n",
    "# Создаем сущность \"zipcode\", по сути выбираем столбец, по которому будет проходить join \n",
    "# при объединении фич из разных FeatureView\n",
    "\n",
    "zipcode = Entity(\n",
    "    name=\"zipcode\", \n",
    "    value_type=ValueType.INT64) \n",
    "\n",
    "# Указываем источник данных для \"zipcode\" \n",
    "\n",
    "zipcode_source = FileSource(\n",
    "    path=zipcode_path, # Путь к источнику\n",
    "    file_format=ParquetFormat(), # Формат источника\n",
    "    timestamp_field=\"event_timestamp\" # инициализируем колонку события\n",
    ")\n",
    "\n",
    "# Созаем представление данных и называем его (name). Описываем какие фичи мы заберем \n",
    "# (features) из источника (batch_source) и по какому столбцу мы будем их объединять с \n",
    "# другими FeatureView entities.\n",
    "\n",
    "zipcode_features = FeatureView(\n",
    "    name=\"zipcode_features\",\n",
    "    entities=[zipcode, ],\n",
    "    ttl=timedelta(days=3650),\n",
    "    schema=[\n",
    "        Field(name=\"city\", dtype=String),\n",
    "        Field(name=\"state\", dtype=String),\n",
    "        Field(name=\"location_type\", dtype=String),\n",
    "        Field(name=\"tax_returns_filed\", dtype=Int64),\n",
    "        Field(name=\"population\", dtype=Int64),\n",
    "        Field(name=\"total_wages\", dtype=Int64),\n",
    "    ],\n",
    "    source=zipcode_source,\n",
    ")\n",
    "\n",
    "# По аналогии создаем FeatureView для данных кредитной истории.\n",
    "\n",
    "dob_ssn = Entity(\n",
    "    name=\"dob_ssn\",\n",
    "    value_type=ValueType.STRING,\n",
    "    description=\"Date of birth and last four digits of social security number\",\n",
    ")\n",
    "\n",
    "credit_history_source = FileSource(\n",
    "    path=credit_history_path, \n",
    "    file_format=ParquetFormat(),\n",
    "    timestamp_field=\"event_timestamp\"\n",
    ")\n",
    "\n",
    "credit_history = FeatureView(\n",
    "    name=\"credit_history\",\n",
    "    entities=[dob_ssn,],\n",
    "    ttl=timedelta(days=140),\n",
    "    schema=[\n",
    "        Field(name=\"credit_card_due\", dtype=Int64),\n",
    "        Field(name=\"mortgage_due\", dtype=Int64),\n",
    "        Field(name=\"student_loan_due\", dtype=Int64),\n",
    "        Field(name=\"vehicle_loan_due\", dtype=Int64),\n",
    "        Field(name=\"hard_pulls\", dtype=Int64),\n",
    "        Field(name=\"missed_payments_2y\", dtype=Int64),\n",
    "        Field(name=\"missed_payments_1y\", dtype=Int64),\n",
    "        Field(name=\"missed_payments_6m\", dtype=Int64),\n",
    "        Field(name=\"bankruptcies\", dtype=Int64),\n",
    "    ],\n",
    "    source=credit_history_source,\n",
    ")"
   ]
  },
  {
   "cell_type": "markdown",
   "id": "b980194d",
   "metadata": {},
   "source": [
    "Инициализируем расположение локального хранилища фич."
   ]
  },
  {
   "cell_type": "code",
   "execution_count": 4,
   "id": "beed55a6-373f-4cc2-a3c7-c899172ab3e5",
   "metadata": {},
   "outputs": [
    {
     "name": "stderr",
     "output_type": "stream",
     "text": [
      "Flags are no longer necessary in Feast. Experimental features will log warnings instead.\n"
     ]
    }
   ],
   "source": [
    "store = FeatureStore(repo_path=\".\")"
   ]
  },
  {
   "cell_type": "markdown",
   "id": "55c42804",
   "metadata": {},
   "source": [
    "Сохраняем."
   ]
  },
  {
   "cell_type": "code",
   "execution_count": 5,
   "id": "e1918e4c",
   "metadata": {},
   "outputs": [],
   "source": [
    "store.apply([zipcode, zipcode_features, dob_ssn, credit_history])"
   ]
  },
  {
   "cell_type": "markdown",
   "id": "88234bc2-8a7e-4557-ba31-0e7602f39e3a",
   "metadata": {},
   "source": [
    "### Подготавливаем данные клиента для обучения"
   ]
  },
  {
   "cell_type": "markdown",
   "id": "3c9aac00",
   "metadata": {},
   "source": [
    "Загружаем таблицу с заявками на кредит."
   ]
  },
  {
   "cell_type": "code",
   "execution_count": 6,
   "id": "4cbabed5-0b22-494d-945a-7fd346ffec99",
   "metadata": {},
   "outputs": [],
   "source": [
    "loans = pd.read_parquet(\"data/loan_table.parquet\")"
   ]
  },
  {
   "cell_type": "code",
   "execution_count": 7,
   "id": "bd9aaa45-d7e8-498c-9c9d-12f7e11f81f8",
   "metadata": {},
   "outputs": [
    {
     "data": {
      "text/html": [
       "<div>\n",
       "<style scoped>\n",
       "    .dataframe tbody tr th:only-of-type {\n",
       "        vertical-align: middle;\n",
       "    }\n",
       "\n",
       "    .dataframe tbody tr th {\n",
       "        vertical-align: top;\n",
       "    }\n",
       "\n",
       "    .dataframe thead th {\n",
       "        text-align: right;\n",
       "    }\n",
       "</style>\n",
       "<table border=\"1\" class=\"dataframe\">\n",
       "  <thead>\n",
       "    <tr style=\"text-align: right;\">\n",
       "      <th></th>\n",
       "      <th>loan_id</th>\n",
       "      <th>dob_ssn</th>\n",
       "      <th>zipcode</th>\n",
       "      <th>person_age</th>\n",
       "      <th>person_income</th>\n",
       "      <th>person_home_ownership</th>\n",
       "      <th>person_emp_length</th>\n",
       "      <th>loan_intent</th>\n",
       "      <th>loan_amnt</th>\n",
       "      <th>loan_int_rate</th>\n",
       "      <th>loan_status</th>\n",
       "      <th>event_timestamp</th>\n",
       "      <th>created_timestamp</th>\n",
       "    </tr>\n",
       "  </thead>\n",
       "  <tbody>\n",
       "    <tr>\n",
       "      <th>0</th>\n",
       "      <td>10000</td>\n",
       "      <td>19530219_5179</td>\n",
       "      <td>76104</td>\n",
       "      <td>22</td>\n",
       "      <td>59000</td>\n",
       "      <td>RENT</td>\n",
       "      <td>123.0</td>\n",
       "      <td>PERSONAL</td>\n",
       "      <td>35000</td>\n",
       "      <td>16.02</td>\n",
       "      <td>1</td>\n",
       "      <td>2021-08-25 20:34:41.361000+00:00</td>\n",
       "      <td>2021-08-25 20:34:41.361000+00:00</td>\n",
       "    </tr>\n",
       "    <tr>\n",
       "      <th>1</th>\n",
       "      <td>10001</td>\n",
       "      <td>19520816_8737</td>\n",
       "      <td>70380</td>\n",
       "      <td>21</td>\n",
       "      <td>9600</td>\n",
       "      <td>OWN</td>\n",
       "      <td>5.0</td>\n",
       "      <td>EDUCATION</td>\n",
       "      <td>1000</td>\n",
       "      <td>11.14</td>\n",
       "      <td>0</td>\n",
       "      <td>2021-08-25 20:16:20.128000+00:00</td>\n",
       "      <td>2021-08-25 20:16:20.128000+00:00</td>\n",
       "    </tr>\n",
       "    <tr>\n",
       "      <th>2</th>\n",
       "      <td>10002</td>\n",
       "      <td>19860413_2537</td>\n",
       "      <td>97039</td>\n",
       "      <td>25</td>\n",
       "      <td>9600</td>\n",
       "      <td>MORTGAGE</td>\n",
       "      <td>1.0</td>\n",
       "      <td>MEDICAL</td>\n",
       "      <td>5500</td>\n",
       "      <td>12.87</td>\n",
       "      <td>1</td>\n",
       "      <td>2021-08-25 19:57:58.896000+00:00</td>\n",
       "      <td>2021-08-25 19:57:58.896000+00:00</td>\n",
       "    </tr>\n",
       "    <tr>\n",
       "      <th>3</th>\n",
       "      <td>10003</td>\n",
       "      <td>19760701_8090</td>\n",
       "      <td>63785</td>\n",
       "      <td>23</td>\n",
       "      <td>65500</td>\n",
       "      <td>RENT</td>\n",
       "      <td>4.0</td>\n",
       "      <td>MEDICAL</td>\n",
       "      <td>35000</td>\n",
       "      <td>15.23</td>\n",
       "      <td>1</td>\n",
       "      <td>2021-08-25 19:39:37.663000+00:00</td>\n",
       "      <td>2021-08-25 19:39:37.663000+00:00</td>\n",
       "    </tr>\n",
       "    <tr>\n",
       "      <th>4</th>\n",
       "      <td>10004</td>\n",
       "      <td>19830125_8297</td>\n",
       "      <td>82223</td>\n",
       "      <td>24</td>\n",
       "      <td>54400</td>\n",
       "      <td>RENT</td>\n",
       "      <td>8.0</td>\n",
       "      <td>MEDICAL</td>\n",
       "      <td>35000</td>\n",
       "      <td>14.27</td>\n",
       "      <td>1</td>\n",
       "      <td>2021-08-25 19:21:16.430000+00:00</td>\n",
       "      <td>2021-08-25 19:21:16.430000+00:00</td>\n",
       "    </tr>\n",
       "  </tbody>\n",
       "</table>\n",
       "</div>"
      ],
      "text/plain": [
       "   loan_id        dob_ssn  zipcode  person_age  person_income  \\\n",
       "0    10000  19530219_5179    76104          22          59000   \n",
       "1    10001  19520816_8737    70380          21           9600   \n",
       "2    10002  19860413_2537    97039          25           9600   \n",
       "3    10003  19760701_8090    63785          23          65500   \n",
       "4    10004  19830125_8297    82223          24          54400   \n",
       "\n",
       "  person_home_ownership  person_emp_length loan_intent  loan_amnt  \\\n",
       "0                  RENT              123.0    PERSONAL      35000   \n",
       "1                   OWN                5.0   EDUCATION       1000   \n",
       "2              MORTGAGE                1.0     MEDICAL       5500   \n",
       "3                  RENT                4.0     MEDICAL      35000   \n",
       "4                  RENT                8.0     MEDICAL      35000   \n",
       "\n",
       "   loan_int_rate  loan_status                  event_timestamp  \\\n",
       "0          16.02            1 2021-08-25 20:34:41.361000+00:00   \n",
       "1          11.14            0 2021-08-25 20:16:20.128000+00:00   \n",
       "2          12.87            1 2021-08-25 19:57:58.896000+00:00   \n",
       "3          15.23            1 2021-08-25 19:39:37.663000+00:00   \n",
       "4          14.27            1 2021-08-25 19:21:16.430000+00:00   \n",
       "\n",
       "                 created_timestamp  \n",
       "0 2021-08-25 20:34:41.361000+00:00  \n",
       "1 2021-08-25 20:16:20.128000+00:00  \n",
       "2 2021-08-25 19:57:58.896000+00:00  \n",
       "3 2021-08-25 19:39:37.663000+00:00  \n",
       "4 2021-08-25 19:21:16.430000+00:00  "
      ]
     },
     "execution_count": 7,
     "metadata": {},
     "output_type": "execute_result"
    }
   ],
   "source": [
    "loans.head()"
   ]
  },
  {
   "cell_type": "markdown",
   "id": "1ad09936",
   "metadata": {},
   "source": [
    "Прописываем фичи, которыми мы хотим обогатить таблицу с заявками."
   ]
  },
  {
   "cell_type": "code",
   "execution_count": 8,
   "id": "48ccc9b4-e798-4b18-b9f8-1b74b045e526",
   "metadata": {},
   "outputs": [],
   "source": [
    "feast_features = [\n",
    "    \"zipcode_features:city\",\n",
    "    \"zipcode_features:state\",\n",
    "    \"zipcode_features:location_type\",\n",
    "    \"zipcode_features:tax_returns_filed\",\n",
    "    \"zipcode_features:population\",\n",
    "    \"zipcode_features:total_wages\",\n",
    "    \"credit_history:credit_card_due\",\n",
    "    \"credit_history:mortgage_due\",\n",
    "    \"credit_history:student_loan_due\",\n",
    "    \"credit_history:vehicle_loan_due\",\n",
    "    \"credit_history:hard_pulls\",\n",
    "    \"credit_history:missed_payments_2y\",\n",
    "    \"credit_history:missed_payments_1y\",\n",
    "    \"credit_history:missed_payments_6m\",\n",
    "    \"credit_history:bankruptcies\",\n",
    "]"
   ]
  },
  {
   "cell_type": "markdown",
   "id": "584809b4",
   "metadata": {},
   "source": [
    "## Great Expectations "
   ]
  },
  {
   "cell_type": "markdown",
   "id": "86b8b461",
   "metadata": {},
   "source": [
    "Great Expectations – это открытый фреймворк для профилирования, тестирования и документирования данных. "
   ]
  },
  {
   "cell_type": "markdown",
   "id": "78c1d351",
   "metadata": {},
   "source": [
    "Объеденяем фичи из zipcode_features и credit_history (feast_features) по таблице loans. (Делаем join талицы loans по столбцам zipcode (с zipcode_features), dob_ssn (с credit_history))"
   ]
  },
  {
   "cell_type": "code",
   "execution_count": null,
   "id": "1454d00c",
   "metadata": {},
   "outputs": [],
   "source": [
    "training_df = store.get_historical_features(\n",
    "    entity_df=loans, \n",
    "    features=feast_features\n",
    ")"
   ]
  },
  {
   "cell_type": "markdown",
   "id": "c1b7fc81",
   "metadata": {},
   "source": [
    "Сохраняем объединенную таблицу. "
   ]
  },
  {
   "cell_type": "code",
   "execution_count": null,
   "id": "154fba9c",
   "metadata": {},
   "outputs": [],
   "source": [
    "store.create_saved_dataset(\n",
    "    from_=training_df,\n",
    "    name='my_training_ds',\n",
    "    storage=SavedDatasetFileStorage(path='my_training_ds.parquet')\n",
    ")"
   ]
  },
  {
   "cell_type": "markdown",
   "id": "0e6d3e0c",
   "metadata": {},
   "source": [
    "Загружаем сохраненную таблицу."
   ]
  },
  {
   "cell_type": "code",
   "execution_count": null,
   "id": "a73a8cc2-80ef-4871-8699-0573345d70b7",
   "metadata": {
    "tags": []
   },
   "outputs": [],
   "source": [
    "ds = store.get_saved_dataset('my_training_ds')\n",
    "ds.to_df().head()"
   ]
  },
  {
   "cell_type": "markdown",
   "id": "f15c2dbf",
   "metadata": {},
   "source": [
    "### Исследование данных"
   ]
  },
  {
   "cell_type": "markdown",
   "id": "b955c065",
   "metadata": {},
   "source": [
    "Для понимания специфики данных data scientist может использовать разные методы их исследования. <br> В данном примере будет использовани библиотека pandas-profiling."
   ]
  },
  {
   "cell_type": "code",
   "execution_count": null,
   "id": "7bb17d45",
   "metadata": {},
   "outputs": [],
   "source": [
    "from pandas_profiling import ProfileReport"
   ]
  },
  {
   "cell_type": "code",
   "execution_count": null,
   "id": "08b28bc4",
   "metadata": {},
   "outputs": [],
   "source": [
    "df = ds.to_df()"
   ]
  },
  {
   "cell_type": "code",
   "execution_count": null,
   "id": "43512477",
   "metadata": {},
   "outputs": [],
   "source": [
    "profile = ProfileReport(df, title=\"Pandas Profiling Report\", explorative=True)"
   ]
  },
  {
   "cell_type": "code",
   "execution_count": null,
   "id": "b9197694",
   "metadata": {},
   "outputs": [],
   "source": [
    "from IPython.core.display import display\n",
    "profile"
   ]
  },
  {
   "cell_type": "markdown",
   "id": "1dfa669e",
   "metadata": {},
   "source": [
    "### Составление профиля данных"
   ]
  },
  {
   "cell_type": "markdown",
   "id": "ef55d2e2",
   "metadata": {},
   "source": [
    "На основе полученных знаний о данных сформируес профайлер для нашего обучающего датасета."
   ]
  },
  {
   "cell_type": "code",
   "execution_count": null,
   "id": "227ad5bf",
   "metadata": {},
   "outputs": [],
   "source": [
    "@ge_profiler\n",
    "def stats_profiler(ds: PandasDataset) -> ExpectationSuite:\n",
    "    \n",
    "    # ожидаемые столбцы\n",
    "    ds.expect_table_columns_to_match_ordered_list(\n",
    "    [\"loan_id\",\"dob_ssn\",\"zipcode\",\"person_age\",\"person_income\",\"person_home_ownership\",\n",
    "     \"person_emp_length\",\"loan_intent\",\"loan_amnt\",\"loan_int_rate\",\"loan_status\",\"event_timestamp\",\n",
    "     \"created_timestamp\",\"city\",\"state\",\"location_type\",\"tax_returns_filed\",\"population\",\n",
    "     \"total_wages\",\"credit_card_due\",\"mortgage_due\",\"student_loan_due\",\"vehicle_loan_due\",\n",
    "     \"hard_pulls\",\"missed_payments_2y\",\"missed_payments_1y\",\"missed_payments_6m\",\"bankruptcies\"]\n",
    "    )\n",
    "    \n",
    "    # указываем, что возраст клиента должен быть от 18 до 90 (в данных есть клиенты с возрастом 144)\n",
    "    ds.expect_column_values_to_be_between(\n",
    "        \"person_age\",\n",
    "        min_value=18,\n",
    "        max_value=90,\n",
    "        mostly=1.\n",
    "    )\n",
    "    \n",
    "    # значение \"выплатил ли кредит\" должно быть бинарным\n",
    "    ds.expect_column_values_to_be_in_set(\n",
    "    'loan_status',\n",
    "    [0, 1]\n",
    "    )\n",
    "    \n",
    "    # доход обрежем на 95ом перцентиле (но допустим некоторые привышающие значения)\n",
    "    ds.expect_column_values_to_be_between(\n",
    "        \"person_income\",\n",
    "        min_value=0,\n",
    "        max_value=140000,\n",
    "#         mostly= 0.95,\n",
    "        mostly= 1.,\n",
    "    )\n",
    "    \n",
    "    # и можем проверить колонку на соответствие типу\n",
    "    ds.expect_column_values_to_be_of_type(\n",
    "    'city',\n",
    "    'str'\n",
    "    )\n",
    "    \n",
    "    return ds.get_expectation_suite(discard_failed_expectations=False)"
   ]
  },
  {
   "cell_type": "markdown",
   "id": "2d724934",
   "metadata": {},
   "source": [
    "Тестируем наш профайлер (должны отобразиться все тесты)"
   ]
  },
  {
   "cell_type": "code",
   "execution_count": null,
   "id": "c40ed8b8",
   "metadata": {},
   "outputs": [],
   "source": [
    "ds.get_profile(profiler=stats_profiler)"
   ]
  },
  {
   "cell_type": "markdown",
   "id": "705e747f",
   "metadata": {},
   "source": [
    "Теперь мы можем создать ссылку на проверку из набора данных."
   ]
  },
  {
   "cell_type": "code",
   "execution_count": null,
   "id": "829aacdc",
   "metadata": {},
   "outputs": [],
   "source": [
    "validation_reference = ds.as_reference(name='test',profiler=stats_profiler)"
   ]
  },
  {
   "cell_type": "markdown",
   "id": "719e9629",
   "metadata": {},
   "source": [
    "И сразу проверим наш job на соответствие."
   ]
  },
  {
   "cell_type": "code",
   "execution_count": null,
   "id": "96250c08-2d44-4696-a12d-16f605ba40b9",
   "metadata": {},
   "outputs": [],
   "source": [
    "from feast.dqm.errors import ValidationFailed"
   ]
  },
  {
   "cell_type": "code",
   "execution_count": null,
   "id": "ef6bd01c",
   "metadata": {},
   "outputs": [],
   "source": [
    "fail_str = None"
   ]
  },
  {
   "cell_type": "code",
   "execution_count": null,
   "id": "36ac99f0",
   "metadata": {},
   "outputs": [],
   "source": [
    "def beautifull_report(report_list):\n",
    "    report_list = eval(str(report_list).replace('false','False').replace('true','True').replace('null','None'))\n",
    "    columns_dict = {}\n",
    "    for report in report_list:\n",
    "        column = report[\"expectation_config\"][\"kwargs\"][\"column\"]\n",
    "        if column in columns_dict:\n",
    "            columns_dict[column].append(report)\n",
    "        else:\n",
    "            columns_dict[column] = [report,]\n",
    "            \n",
    "    for key, value in columns_dict.items():\n",
    "        print(key)\n",
    "        print(\"*\"*20)\n",
    "        for report in value:\n",
    "            expectation_type = report[\"expectation_config\"][\"expectation_type\"]\n",
    "            print(\"Expectation type: \", expectation_type)\n",
    "            element_count = report[\"result\"][\"element_count\"]\n",
    "            print(\"Element count: \", element_count)\n",
    "            missing_count = report[\"result\"][\"missing_count\"]\n",
    "            print(\"Missing count: \", missing_count)\n",
    "            \n",
    "            unexpected_count = report[\"result\"][\"unexpected_count\"]\n",
    "            print(\"Unexpected count: \", unexpected_count)\n",
    "\n",
    "            partial_unexpected_counts = report[\"result\"][\"partial_unexpected_counts\"]\n",
    "            print(\"Top 5 unexpected elenents list: \", partial_unexpected_counts[:5])\n",
    "            print(\"-\"*40)\n",
    "        print()\n",
    "\n"
   ]
  },
  {
   "cell_type": "markdown",
   "id": "3372502d",
   "metadata": {},
   "source": [
    "### Валидация и получение отчета"
   ]
  },
  {
   "cell_type": "code",
   "execution_count": null,
   "id": "45e3e693-d0cd-470e-ae22-ab58608e8922",
   "metadata": {
    "scrolled": true
   },
   "outputs": [],
   "source": [
    "try:\n",
    "    df = training_df.to_df(validation_reference=validation_reference)\n",
    "except ValidationFailed as exc:\n",
    "    fail_str = exc.validation_report\n",
    "    beautifull_report(fail_str)\n",
    "    print(exc.validation_report)"
   ]
  },
  {
   "cell_type": "markdown",
   "id": "498a7741",
   "metadata": {},
   "source": [
    "Видим, что тест на возраст не прошел, мы можем изменить исходники или добавить предобработку данных перед обучением."
   ]
  },
  {
   "cell_type": "code",
   "execution_count": null,
   "id": "5c26e284",
   "metadata": {},
   "outputs": [],
   "source": []
  },
  {
   "cell_type": "code",
   "execution_count": null,
   "id": "e6c641f6",
   "metadata": {},
   "outputs": [],
   "source": []
  },
  {
   "cell_type": "code",
   "execution_count": null,
   "id": "d35eccde",
   "metadata": {},
   "outputs": [],
   "source": []
  },
  {
   "cell_type": "code",
   "execution_count": null,
   "id": "0ed387cc",
   "metadata": {},
   "outputs": [],
   "source": []
  },
  {
   "cell_type": "code",
   "execution_count": null,
   "id": "9620e16e",
   "metadata": {},
   "outputs": [],
   "source": []
  },
  {
   "cell_type": "code",
   "execution_count": null,
   "id": "6320e824",
   "metadata": {},
   "outputs": [],
   "source": []
  },
  {
   "cell_type": "code",
   "execution_count": null,
   "id": "1c6051ce",
   "metadata": {},
   "outputs": [],
   "source": []
  },
  {
   "cell_type": "code",
   "execution_count": null,
   "id": "1d90936d",
   "metadata": {},
   "outputs": [],
   "source": []
  },
  {
   "cell_type": "code",
   "execution_count": null,
   "id": "3395b1e6",
   "metadata": {},
   "outputs": [],
   "source": []
  },
  {
   "cell_type": "code",
   "execution_count": null,
   "id": "e99ab911",
   "metadata": {},
   "outputs": [],
   "source": []
  },
  {
   "cell_type": "code",
   "execution_count": null,
   "id": "17b3664d-c21b-4664-b581-67c17b17ae52",
   "metadata": {},
   "outputs": [],
   "source": [
    "training_df = store.get_historical_features(\n",
    "    entity_df=loans, \n",
    "    features=feast_features\n",
    ").to_df()"
   ]
  },
  {
   "cell_type": "code",
   "execution_count": null,
   "id": "b84b746c",
   "metadata": {},
   "outputs": [],
   "source": [
    "training_df.to_csv(\"test_data/credit_history_all.csv\", index=False)"
   ]
  },
  {
   "cell_type": "markdown",
   "id": "1170a754",
   "metadata": {},
   "source": [
    "### Подготавливаем данные клиента для обучения"
   ]
  },
  {
   "cell_type": "code",
   "execution_count": null,
   "id": "29c33164",
   "metadata": {},
   "outputs": [],
   "source": [
    "training_df = training_df[(training_df['person_age'] < 90)&(training_df['person_income'] < 140000)]"
   ]
  },
  {
   "cell_type": "code",
   "execution_count": null,
   "id": "de2e093a",
   "metadata": {},
   "outputs": [],
   "source": [
    "training_df.to_csv(\"test_data/credit_history_clear.csv\", index=False)"
   ]
  },
  {
   "cell_type": "code",
   "execution_count": null,
   "id": "88f682b5",
   "metadata": {},
   "outputs": [],
   "source": [
    "from sklearn import tree\n",
    "from sklearn.preprocessing import OrdinalEncoder"
   ]
  },
  {
   "cell_type": "code",
   "execution_count": null,
   "id": "0df03f9a-d078-464e-afaf-7b3a7047980d",
   "metadata": {},
   "outputs": [],
   "source": [
    "encoder = OrdinalEncoder()\n",
    "categorical_features = [\n",
    "    \"person_home_ownership\",\n",
    "    \"loan_intent\",\n",
    "    \"city\",\n",
    "    \"state\",\n",
    "    \"location_type\",\n",
    "]\n",
    "encoder.fit(training_df[categorical_features])\n",
    "transform_training_df=training_df.copy()\n",
    "transform_training_df[categorical_features] = encoder.transform(\n",
    "    training_df[categorical_features]\n",
    ")\n",
    "\n",
    "target = \"loan_status\"\n",
    "train_X = transform_training_df[\n",
    "    transform_training_df.columns.drop(target)\n",
    "    .drop(\"event_timestamp\")\n",
    "    .drop(\"created_timestamp\")\n",
    "    .drop(\"loan_id\")\n",
    "    .drop(\"zipcode\")\n",
    "    .drop(\"dob_ssn\")\n",
    "]\n",
    "train_X = train_X.reindex(sorted(train_X.columns), axis=1)\n",
    "train_Y = transform_training_df.loc[:, target]"
   ]
  },
  {
   "cell_type": "markdown",
   "id": "a0fff98a-4987-405e-a418-a5e6d02da098",
   "metadata": {},
   "source": [
    "### Разделяем подготовленные данные на тестовую и обучающие выборки"
   ]
  },
  {
   "cell_type": "code",
   "execution_count": null,
   "id": "0eb09b8c-d47d-4eca-802f-6598d6b8177f",
   "metadata": {},
   "outputs": [],
   "source": [
    "from sklearn.model_selection import train_test_split\n",
    "\n",
    "x_train, x_test, y_train, y_test = train_test_split(train_X, train_Y, test_size=0.10)"
   ]
  },
  {
   "cell_type": "code",
   "execution_count": null,
   "id": "3ea50483-7451-4d8a-8a3c-45929b961d2c",
   "metadata": {},
   "outputs": [],
   "source": [
    "train_X.head()"
   ]
  },
  {
   "cell_type": "code",
   "execution_count": null,
   "id": "1efdb8fa-5cd5-4627-be9c-8f77a789d5b7",
   "metadata": {},
   "outputs": [],
   "source": [
    "train_Y"
   ]
  },
  {
   "cell_type": "markdown",
   "id": "330fa0ce-03fa-4b03-8c95-06a33c4447f4",
   "metadata": {},
   "source": [
    "### Производим обучение модели"
   ]
  },
  {
   "cell_type": "code",
   "execution_count": null,
   "id": "ad5bff02-96d4-47d1-8928-837f3c965489",
   "metadata": {},
   "outputs": [],
   "source": [
    "classifier = tree.DecisionTreeClassifier()\n",
    "classifier.fit(train_X[sorted(train_X)], train_Y)"
   ]
  },
  {
   "cell_type": "code",
   "execution_count": null,
   "id": "de5d3e75-3c53-4d62-a138-c746e6461305",
   "metadata": {},
   "outputs": [],
   "source": [
    "max_depth = 22\n",
    "classifier = tree.DecisionTreeClassifier(max_depth = max_depth)\n",
    "classifier.fit(x_train[sorted(x_train)], y_train)"
   ]
  },
  {
   "cell_type": "markdown",
   "id": "78f79df9-f021-4f12-9878-53e3f8d7a055",
   "metadata": {},
   "source": [
    "### Подсчитываем метрики и смотрим на качество обучения модели"
   ]
  },
  {
   "cell_type": "code",
   "execution_count": null,
   "id": "80eff119-0552-4582-8d05-31848404a161",
   "metadata": {},
   "outputs": [],
   "source": [
    "predictions = classifier.predict(x_test)"
   ]
  },
  {
   "cell_type": "code",
   "execution_count": null,
   "id": "800cb23d-3587-4dc9-9a6d-5a1dd2005d1d",
   "metadata": {},
   "outputs": [],
   "source": [
    "from sklearn.metrics import accuracy_score, make_scorer\n",
    "\n",
    "accuracy = accuracy_score(y_true=y_test, y_pred = predictions)\n",
    "print(accuracy)"
   ]
  },
  {
   "cell_type": "code",
   "execution_count": null,
   "id": "3f0d1d6a-315a-4f76-a288-c54fc84356d8",
   "metadata": {},
   "outputs": [],
   "source": [
    "import numpy as np\n",
    "from sklearn.metrics import mean_squared_error, mean_absolute_error, r2_score\n",
    "\n",
    "def eval_metrics(actual, pred):\n",
    "    rmse = np.sqrt(mean_squared_error(actual, pred))\n",
    "    mae = mean_absolute_error(actual, pred)\n",
    "    r2 = r2_score(actual, pred)\n",
    "    return rmse, mae, r2"
   ]
  },
  {
   "cell_type": "code",
   "execution_count": null,
   "id": "6552a854-1aef-4052-8073-78965bec182d",
   "metadata": {},
   "outputs": [],
   "source": [
    "(rmse, mae, r2) = eval_metrics(y_test, predictions)\n",
    "print(rmse)\n",
    "print(mae)\n",
    "print(r2)"
   ]
  }
 ],
 "metadata": {
  "kernelspec": {
   "display_name": "Python 3 (ipykernel)",
   "language": "python",
   "name": "python3"
  },
  "language_info": {
   "codemirror_mode": {
    "name": "ipython",
    "version": 3
   },
   "file_extension": ".py",
   "mimetype": "text/x-python",
   "name": "python",
   "nbconvert_exporter": "python",
   "pygments_lexer": "ipython3",
   "version": "3.9.12"
  }
 },
 "nbformat": 4,
 "nbformat_minor": 5
}
